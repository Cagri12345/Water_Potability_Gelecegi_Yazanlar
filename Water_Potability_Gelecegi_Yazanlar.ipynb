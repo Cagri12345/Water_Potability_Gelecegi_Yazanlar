{
  "nbformat": 4,
  "nbformat_minor": 0,
  "metadata": {
    "colab": {
      "provenance": []
    },
    "kernelspec": {
      "name": "python3",
      "display_name": "Python 3"
    },
    "language_info": {
      "name": "python"
    }
  },
  "cells": [
    {
      "cell_type": "code",
      "source": [
        "# SU KALİTE TAHMİNİ"
      ],
      "metadata": {
        "id": "1AjoaX1goXCu"
      },
      "execution_count": 236,
      "outputs": []
    },
    {
      "cell_type": "code",
      "source": [
        "# Bu veri seti, 3276 farklı su kaynağının içme suyu kalitesini değerlendirir. Her kaynağın su kalitesini etkileyen çeşitli parametreler bulunur.\n",
        "\n",
        "# pH: Suyun asidik veya alkali olduğunu gösterir. WHO'ya göre 6.5-8.5 arası içme suyu için uygundur.\n",
        "# Sertlik: Suya çözünen kalsiyum ve magnezyum tuzlarının miktarıdır, suyun sabunla köpürme yeteneğini etkiler.\n",
        "# Katı Maddeler (TDS): Suya çözünmüş minerallerin toplamıdır; içme suyunda 500 mg/L'nin altında olmalıdır.\n",
        "# Kloraminler: İçme suyu dezenfeksiyonunda kullanılan klor ve amonyağın birleşiminden oluşan kimyasallardır.\n",
        "# Sülfat: Doğal kaynaklarda bulunan, suya karışabilen ve endüstriyel kullanımları olan bileşiklerdir.\n",
        "# Elektriksel İletkenlik: Suda çözünmüş iyonların miktarını gösterir, suyun elektrik iletme kapasitesini belirtir.\n",
        "# Organik Karbon (TOC): Suyun içinde bulunan organik maddelerin toplam karbon içeriğini ölçer.\n",
        "# Trihalometanlar (THM): Klorlamadan kaynaklanan kimyasallar olup sağlık riskleri taşıyabilir.\n",
        "# Bulanıklık: Su içindeki askıda katı maddelerin miktarını ve ışık geçirme kapasitesini ölçer.\n",
        "# Potabilite: Suyun içilebilir olup olmadığını belirtir; 1 içilebilir, 0 ise içilemezdir."
      ],
      "metadata": {
        "id": "0baAGQqGoZic"
      },
      "execution_count": 237,
      "outputs": []
    },
    {
      "cell_type": "code",
      "source": [
        "# Gerekli Kütüphane ve Fonksiyonlar\n",
        "import numpy as np\n",
        "import pandas as pd\n",
        "import matplotlib.pyplot as plt\n",
        "import seaborn as sns\n",
        "from sklearn.metrics import accuracy_score, precision_score, recall_score, f1_score,roc_auc_score\n",
        "from sklearn.model_selection import GridSearchCV, cross_validate\n",
        "from sklearn.model_selection import train_test_split\n",
        "from sklearn.preprocessing import LabelEncoder\n",
        "from sklearn.ensemble import RandomForestClassifier\n",
        "from sklearn.preprocessing import StandardScaler\n",
        "import warnings\n",
        "warnings.simplefilter(action=\"ignore\")"
      ],
      "metadata": {
        "id": "nX_ftF_xoc2a"
      },
      "execution_count": 238,
      "outputs": []
    },
    {
      "cell_type": "code",
      "source": [
        "!pip install lightgbm\n",
        "!pip install xgboost"
      ],
      "metadata": {
        "colab": {
          "base_uri": "https://localhost:8080/"
        },
        "id": "44hOw3booeeC",
        "outputId": "bbb0a4a4-9921-42cd-c77e-23d9fe76150a"
      },
      "execution_count": 239,
      "outputs": [
        {
          "output_type": "stream",
          "name": "stdout",
          "text": [
            "Requirement already satisfied: lightgbm in /usr/local/lib/python3.11/dist-packages (4.5.0)\n",
            "Requirement already satisfied: numpy>=1.17.0 in /usr/local/lib/python3.11/dist-packages (from lightgbm) (2.0.2)\n",
            "Requirement already satisfied: scipy in /usr/local/lib/python3.11/dist-packages (from lightgbm) (1.14.1)\n",
            "Requirement already satisfied: xgboost in /usr/local/lib/python3.11/dist-packages (2.1.4)\n",
            "Requirement already satisfied: numpy in /usr/local/lib/python3.11/dist-packages (from xgboost) (2.0.2)\n",
            "Requirement already satisfied: nvidia-nccl-cu12 in /usr/local/lib/python3.11/dist-packages (from xgboost) (2.21.5)\n",
            "Requirement already satisfied: scipy in /usr/local/lib/python3.11/dist-packages (from xgboost) (1.14.1)\n"
          ]
        }
      ]
    },
    {
      "cell_type": "code",
      "source": [
        "from xgboost import XGBClassifier\n",
        "from lightgbm import LGBMClassifier"
      ],
      "metadata": {
        "id": "rjmbRNzBog9W"
      },
      "execution_count": 240,
      "outputs": []
    },
    {
      "cell_type": "code",
      "source": [
        "import joblib\n",
        "import pandas as pd\n",
        "from lightgbm import LGBMClassifier\n",
        "from sklearn.ensemble import RandomForestClassifier, GradientBoostingClassifier, VotingClassifier, AdaBoostClassifier\n",
        "from sklearn.linear_model import LogisticRegression\n",
        "from sklearn.model_selection import cross_validate, GridSearchCV\n",
        "from sklearn.neighbors import KNeighborsClassifier\n",
        "from sklearn.preprocessing import StandardScaler\n",
        "from sklearn.svm import SVC\n",
        "from sklearn.tree import DecisionTreeClassifier\n",
        "from xgboost import XGBClassifier"
      ],
      "metadata": {
        "id": "kzl98xMPsJ5l"
      },
      "execution_count": 241,
      "outputs": []
    },
    {
      "cell_type": "code",
      "source": [
        "pd.set_option('display.max_columns', None)\n",
        "pd.set_option('display.width', None)\n",
        "pd.set_option('display.max_rows', None)\n",
        "pd.set_option('display.float_format', lambda x: '%.3f' % x)"
      ],
      "metadata": {
        "id": "caepltMfoiS1"
      },
      "execution_count": 242,
      "outputs": []
    },
    {
      "cell_type": "code",
      "source": [
        "import warnings\n",
        "warnings.simplefilter(action='ignore')\n",
        "warnings.filterwarnings(\"ignore\")"
      ],
      "metadata": {
        "id": "V3-WN0pboj7k"
      },
      "execution_count": 243,
      "outputs": []
    },
    {
      "cell_type": "code",
      "source": [
        "df_ = pd.read_csv(\"/content/water_potability.csv\")"
      ],
      "metadata": {
        "id": "fIDLWId3okZp"
      },
      "execution_count": 244,
      "outputs": []
    },
    {
      "cell_type": "code",
      "source": [
        "df = df_"
      ],
      "metadata": {
        "id": "sHml6wRJomSL"
      },
      "execution_count": 245,
      "outputs": []
    },
    {
      "cell_type": "code",
      "source": [
        "# Genel olarak bir veri setimize bakalım\n",
        "def check_df(dataframe, head=5):\n",
        "  print(\"##################### Shape ##################### \")\n",
        "  print(dataframe.shape)\n",
        "  print(\"##################### Types ##################### \")\n",
        "  print(dataframe.dtypes)\n",
        "  print(\"##################### Head ##################### \")\n",
        "  print(dataframe.head(head))\n",
        "  print(\"##################### Tail ##################### \")\n",
        "  print(dataframe.tail(head))\n",
        "  print(\"##################### NA ##################### \")\n",
        "  print(dataframe.isnull().sum())\n",
        "  print(\"###################### Quanties ###################### \")\n",
        "  print(dataframe.describe([0, 0.05, 0.50, 0.95, 0.99, 1]).T)"
      ],
      "metadata": {
        "id": "AOIHDOc_oudj"
      },
      "execution_count": 246,
      "outputs": []
    },
    {
      "cell_type": "code",
      "source": [
        "check_df(df)"
      ],
      "metadata": {
        "colab": {
          "base_uri": "https://localhost:8080/"
        },
        "id": "3k8J24d3oxXS",
        "outputId": "981c103a-70a3-4619-ba6b-84bab235a203"
      },
      "execution_count": 247,
      "outputs": [
        {
          "output_type": "stream",
          "name": "stdout",
          "text": [
            "##################### Shape ##################### \n",
            "(3276, 10)\n",
            "##################### Types ##################### \n",
            "ph                 float64\n",
            "Hardness           float64\n",
            "Solids             float64\n",
            "Chloramines        float64\n",
            "Sulfate            float64\n",
            "Conductivity       float64\n",
            "Organic_carbon     float64\n",
            "Trihalomethanes    float64\n",
            "Turbidity          float64\n",
            "Potability           int64\n",
            "dtype: object\n",
            "##################### Head ##################### \n",
            "     ph  Hardness    Solids  Chloramines  Sulfate  Conductivity  Organic_carbon  Trihalomethanes  \\\n",
            "0   NaN   204.890 20791.319        7.300  368.516       564.309          10.380           86.991   \n",
            "1 3.716   129.423 18630.058        6.635      NaN       592.885          15.180           56.329   \n",
            "2 8.099   224.236 19909.542        9.276      NaN       418.606          16.869           66.420   \n",
            "3 8.317   214.373 22018.417        8.059  356.886       363.267          18.437          100.342   \n",
            "4 9.092   181.102 17978.986        6.547  310.136       398.411          11.558           31.998   \n",
            "\n",
            "   Turbidity  Potability  \n",
            "0      2.963           0  \n",
            "1      4.501           0  \n",
            "2      3.056           0  \n",
            "3      4.629           0  \n",
            "4      4.075           0  \n",
            "##################### Tail ##################### \n",
            "        ph  Hardness    Solids  Chloramines  Sulfate  Conductivity  Organic_carbon  \\\n",
            "3271 4.668   193.682 47580.992        7.167  359.949       526.424          13.894   \n",
            "3272 7.809   193.553 17329.802        8.061      NaN       392.450          19.903   \n",
            "3273 9.420   175.763 33155.578        7.350      NaN       432.045          11.039   \n",
            "3274 5.127   230.604 11983.869        6.303      NaN       402.883          11.169   \n",
            "3275 7.875   195.102 17404.177        7.509      NaN       327.460          16.140   \n",
            "\n",
            "      Trihalomethanes  Turbidity  Potability  \n",
            "3271           66.688      4.436           1  \n",
            "3272              NaN      2.798           1  \n",
            "3273           69.845      3.299           1  \n",
            "3274           77.488      4.709           1  \n",
            "3275           78.698      2.309           1  \n",
            "##################### NA ##################### \n",
            "ph                 491\n",
            "Hardness             0\n",
            "Solids               0\n",
            "Chloramines          0\n",
            "Sulfate            781\n",
            "Conductivity         0\n",
            "Organic_carbon       0\n",
            "Trihalomethanes    162\n",
            "Turbidity            0\n",
            "Potability           0\n",
            "dtype: int64\n",
            "###################### Quanties ###################### \n",
            "                   count      mean      std     min      0%       5%       50%       95%  \\\n",
            "ph              2785.000     7.081    1.594   0.000   0.000    4.488     7.037     9.790   \n",
            "Hardness        3276.000   196.369   32.880  47.432  47.432  141.763   196.968   249.610   \n",
            "Solids          3276.000 22014.093 8768.571 320.943 320.943 9545.813 20927.834 38474.990   \n",
            "Chloramines     3276.000     7.122    1.583   0.352   0.352    4.503     7.130     9.753   \n",
            "Sulfate         2495.000   333.776   41.417 129.000 129.000  266.616   333.074   403.070   \n",
            "Conductivity    3276.000   426.205   80.824 181.484 181.484  300.109   421.885   566.349   \n",
            "Organic_carbon  3276.000    14.285    3.308   2.200   2.200    8.815    14.218    19.637   \n",
            "Trihalomethanes 3114.000    66.396   16.175   0.738   0.738   39.553    66.622    92.124   \n",
            "Turbidity       3276.000     3.967    0.780   1.450   1.450    2.684     3.955     5.221   \n",
            "Potability      3276.000     0.390    0.488   0.000   0.000    0.000     0.000     1.000   \n",
            "\n",
            "                      99%      100%       max  \n",
            "ph                 10.895    14.000    14.000  \n",
            "Hardness          278.063   323.124   323.124  \n",
            "Solids          45974.106 61227.196 61227.196  \n",
            "Chloramines        10.967    13.127    13.127  \n",
            "Sulfate           434.022   481.031   481.031  \n",
            "Conductivity      617.627   753.343   753.343  \n",
            "Organic_carbon     22.090    28.300    28.300  \n",
            "Trihalomethanes   104.739   124.000   124.000  \n",
            "Turbidity           5.742     6.739     6.739  \n",
            "Potability          1.000     1.000     1.000  \n"
          ]
        }
      ]
    },
    {
      "cell_type": "code",
      "source": [
        "#Veri setindeki kategorik, numerik ve kategorik fakat kardinal değişkenlerin isimlerini verir.\n",
        "def grab_col_names(dataframe, cat_th=10, car_th=20):\n",
        "  cat_cols = [col for col in dataframe.columns if dataframe[col].dtypes == \"O\"]\n",
        "  num_but_cat = [col for col in dataframe.columns if dataframe[col].nunique() < cat_th and\n",
        "                 dataframe[col].dtypes != \"O\"]\n",
        "  cat_but_car = [col for col in dataframe.columns if dataframe[col].nunique() > car_th and\n",
        "                 dataframe[col].dtypes == \"O\"]\n",
        "  cat_cols = cat_cols + num_but_cat\n",
        "  cat_cols = [col for col in cat_cols if col not in cat_but_car]\n",
        "\n",
        "  num_cols = [col for col in dataframe.columns if dataframe[col].dtypes != \"O\"]\n",
        "  num_cols = [col for col in num_cols if col not in num_but_cat]\n",
        "\n",
        "  print(f\"observations: {dataframe.shape[0]}\")\n",
        "  print(f\"variables: {dataframe.shape[1]}\")\n",
        "  print(f\"cat_cols: {len(cat_cols)}\")\n",
        "  print(f\"num_cols: {len(num_cols)}\")\n",
        "  print(f\"cat_but_car: {len(cat_but_car)}\")\n",
        "  print(f\"num_but_cat: {len(num_but_cat)}\")\n",
        "  return cat_cols, num_cols, cat_but_car"
      ],
      "metadata": {
        "id": "o2d1pXkWo2Bh"
      },
      "execution_count": 248,
      "outputs": []
    },
    {
      "cell_type": "code",
      "source": [
        "cat_cols, num_cols, cat_but_car = grab_col_names(df)"
      ],
      "metadata": {
        "colab": {
          "base_uri": "https://localhost:8080/"
        },
        "id": "p1HPavEwo4Pd",
        "outputId": "f0df2abe-17b4-4888-addb-0a28eb275b0b"
      },
      "execution_count": 249,
      "outputs": [
        {
          "output_type": "stream",
          "name": "stdout",
          "text": [
            "observations: 3276\n",
            "variables: 10\n",
            "cat_cols: 1\n",
            "num_cols: 9\n",
            "cat_but_car: 0\n",
            "num_but_cat: 1\n"
          ]
        }
      ]
    },
    {
      "cell_type": "code",
      "source": [
        "grab_col_names(df)"
      ],
      "metadata": {
        "colab": {
          "base_uri": "https://localhost:8080/"
        },
        "id": "mn1gEXVXo5u7",
        "outputId": "1812818d-6e2e-4fa8-c3c0-8137b649858f"
      },
      "execution_count": 250,
      "outputs": [
        {
          "output_type": "stream",
          "name": "stdout",
          "text": [
            "observations: 3276\n",
            "variables: 10\n",
            "cat_cols: 1\n",
            "num_cols: 9\n",
            "cat_but_car: 0\n",
            "num_but_cat: 1\n"
          ]
        },
        {
          "output_type": "execute_result",
          "data": {
            "text/plain": [
              "(['Potability'],\n",
              " ['ph',\n",
              "  'Hardness',\n",
              "  'Solids',\n",
              "  'Chloramines',\n",
              "  'Sulfate',\n",
              "  'Conductivity',\n",
              "  'Organic_carbon',\n",
              "  'Trihalomethanes',\n",
              "  'Turbidity'],\n",
              " [])"
            ]
          },
          "metadata": {},
          "execution_count": 250
        }
      ]
    },
    {
      "cell_type": "code",
      "source": [
        "df.head()"
      ],
      "metadata": {
        "colab": {
          "base_uri": "https://localhost:8080/",
          "height": 206
        },
        "id": "gjHdlLcko7sd",
        "outputId": "d4d5727f-c461-4050-da45-c72a902eb555"
      },
      "execution_count": 251,
      "outputs": [
        {
          "output_type": "execute_result",
          "data": {
            "text/plain": [
              "     ph  Hardness    Solids  Chloramines  Sulfate  Conductivity  Organic_carbon  Trihalomethanes  \\\n",
              "0   NaN   204.890 20791.319        7.300  368.516       564.309          10.380           86.991   \n",
              "1 3.716   129.423 18630.058        6.635      NaN       592.885          15.180           56.329   \n",
              "2 8.099   224.236 19909.542        9.276      NaN       418.606          16.869           66.420   \n",
              "3 8.317   214.373 22018.417        8.059  356.886       363.267          18.437          100.342   \n",
              "4 9.092   181.102 17978.986        6.547  310.136       398.411          11.558           31.998   \n",
              "\n",
              "   Turbidity  Potability  \n",
              "0      2.963           0  \n",
              "1      4.501           0  \n",
              "2      3.056           0  \n",
              "3      4.629           0  \n",
              "4      4.075           0  "
            ],
            "text/html": [
              "\n",
              "  <div id=\"df-3e98d0f5-d99f-4741-bfb5-62e43de4f557\" class=\"colab-df-container\">\n",
              "    <div>\n",
              "<style scoped>\n",
              "    .dataframe tbody tr th:only-of-type {\n",
              "        vertical-align: middle;\n",
              "    }\n",
              "\n",
              "    .dataframe tbody tr th {\n",
              "        vertical-align: top;\n",
              "    }\n",
              "\n",
              "    .dataframe thead th {\n",
              "        text-align: right;\n",
              "    }\n",
              "</style>\n",
              "<table border=\"1\" class=\"dataframe\">\n",
              "  <thead>\n",
              "    <tr style=\"text-align: right;\">\n",
              "      <th></th>\n",
              "      <th>ph</th>\n",
              "      <th>Hardness</th>\n",
              "      <th>Solids</th>\n",
              "      <th>Chloramines</th>\n",
              "      <th>Sulfate</th>\n",
              "      <th>Conductivity</th>\n",
              "      <th>Organic_carbon</th>\n",
              "      <th>Trihalomethanes</th>\n",
              "      <th>Turbidity</th>\n",
              "      <th>Potability</th>\n",
              "    </tr>\n",
              "  </thead>\n",
              "  <tbody>\n",
              "    <tr>\n",
              "      <th>0</th>\n",
              "      <td>NaN</td>\n",
              "      <td>204.890</td>\n",
              "      <td>20791.319</td>\n",
              "      <td>7.300</td>\n",
              "      <td>368.516</td>\n",
              "      <td>564.309</td>\n",
              "      <td>10.380</td>\n",
              "      <td>86.991</td>\n",
              "      <td>2.963</td>\n",
              "      <td>0</td>\n",
              "    </tr>\n",
              "    <tr>\n",
              "      <th>1</th>\n",
              "      <td>3.716</td>\n",
              "      <td>129.423</td>\n",
              "      <td>18630.058</td>\n",
              "      <td>6.635</td>\n",
              "      <td>NaN</td>\n",
              "      <td>592.885</td>\n",
              "      <td>15.180</td>\n",
              "      <td>56.329</td>\n",
              "      <td>4.501</td>\n",
              "      <td>0</td>\n",
              "    </tr>\n",
              "    <tr>\n",
              "      <th>2</th>\n",
              "      <td>8.099</td>\n",
              "      <td>224.236</td>\n",
              "      <td>19909.542</td>\n",
              "      <td>9.276</td>\n",
              "      <td>NaN</td>\n",
              "      <td>418.606</td>\n",
              "      <td>16.869</td>\n",
              "      <td>66.420</td>\n",
              "      <td>3.056</td>\n",
              "      <td>0</td>\n",
              "    </tr>\n",
              "    <tr>\n",
              "      <th>3</th>\n",
              "      <td>8.317</td>\n",
              "      <td>214.373</td>\n",
              "      <td>22018.417</td>\n",
              "      <td>8.059</td>\n",
              "      <td>356.886</td>\n",
              "      <td>363.267</td>\n",
              "      <td>18.437</td>\n",
              "      <td>100.342</td>\n",
              "      <td>4.629</td>\n",
              "      <td>0</td>\n",
              "    </tr>\n",
              "    <tr>\n",
              "      <th>4</th>\n",
              "      <td>9.092</td>\n",
              "      <td>181.102</td>\n",
              "      <td>17978.986</td>\n",
              "      <td>6.547</td>\n",
              "      <td>310.136</td>\n",
              "      <td>398.411</td>\n",
              "      <td>11.558</td>\n",
              "      <td>31.998</td>\n",
              "      <td>4.075</td>\n",
              "      <td>0</td>\n",
              "    </tr>\n",
              "  </tbody>\n",
              "</table>\n",
              "</div>\n",
              "    <div class=\"colab-df-buttons\">\n",
              "\n",
              "  <div class=\"colab-df-container\">\n",
              "    <button class=\"colab-df-convert\" onclick=\"convertToInteractive('df-3e98d0f5-d99f-4741-bfb5-62e43de4f557')\"\n",
              "            title=\"Convert this dataframe to an interactive table.\"\n",
              "            style=\"display:none;\">\n",
              "\n",
              "  <svg xmlns=\"http://www.w3.org/2000/svg\" height=\"24px\" viewBox=\"0 -960 960 960\">\n",
              "    <path d=\"M120-120v-720h720v720H120Zm60-500h600v-160H180v160Zm220 220h160v-160H400v160Zm0 220h160v-160H400v160ZM180-400h160v-160H180v160Zm440 0h160v-160H620v160ZM180-180h160v-160H180v160Zm440 0h160v-160H620v160Z\"/>\n",
              "  </svg>\n",
              "    </button>\n",
              "\n",
              "  <style>\n",
              "    .colab-df-container {\n",
              "      display:flex;\n",
              "      gap: 12px;\n",
              "    }\n",
              "\n",
              "    .colab-df-convert {\n",
              "      background-color: #E8F0FE;\n",
              "      border: none;\n",
              "      border-radius: 50%;\n",
              "      cursor: pointer;\n",
              "      display: none;\n",
              "      fill: #1967D2;\n",
              "      height: 32px;\n",
              "      padding: 0 0 0 0;\n",
              "      width: 32px;\n",
              "    }\n",
              "\n",
              "    .colab-df-convert:hover {\n",
              "      background-color: #E2EBFA;\n",
              "      box-shadow: 0px 1px 2px rgba(60, 64, 67, 0.3), 0px 1px 3px 1px rgba(60, 64, 67, 0.15);\n",
              "      fill: #174EA6;\n",
              "    }\n",
              "\n",
              "    .colab-df-buttons div {\n",
              "      margin-bottom: 4px;\n",
              "    }\n",
              "\n",
              "    [theme=dark] .colab-df-convert {\n",
              "      background-color: #3B4455;\n",
              "      fill: #D2E3FC;\n",
              "    }\n",
              "\n",
              "    [theme=dark] .colab-df-convert:hover {\n",
              "      background-color: #434B5C;\n",
              "      box-shadow: 0px 1px 3px 1px rgba(0, 0, 0, 0.15);\n",
              "      filter: drop-shadow(0px 1px 2px rgba(0, 0, 0, 0.3));\n",
              "      fill: #FFFFFF;\n",
              "    }\n",
              "  </style>\n",
              "\n",
              "    <script>\n",
              "      const buttonEl =\n",
              "        document.querySelector('#df-3e98d0f5-d99f-4741-bfb5-62e43de4f557 button.colab-df-convert');\n",
              "      buttonEl.style.display =\n",
              "        google.colab.kernel.accessAllowed ? 'block' : 'none';\n",
              "\n",
              "      async function convertToInteractive(key) {\n",
              "        const element = document.querySelector('#df-3e98d0f5-d99f-4741-bfb5-62e43de4f557');\n",
              "        const dataTable =\n",
              "          await google.colab.kernel.invokeFunction('convertToInteractive',\n",
              "                                                    [key], {});\n",
              "        if (!dataTable) return;\n",
              "\n",
              "        const docLinkHtml = 'Like what you see? Visit the ' +\n",
              "          '<a target=\"_blank\" href=https://colab.research.google.com/notebooks/data_table.ipynb>data table notebook</a>'\n",
              "          + ' to learn more about interactive tables.';\n",
              "        element.innerHTML = '';\n",
              "        dataTable['output_type'] = 'display_data';\n",
              "        await google.colab.output.renderOutput(dataTable, element);\n",
              "        const docLink = document.createElement('div');\n",
              "        docLink.innerHTML = docLinkHtml;\n",
              "        element.appendChild(docLink);\n",
              "      }\n",
              "    </script>\n",
              "  </div>\n",
              "\n",
              "\n",
              "<div id=\"df-0c2f39b8-bedd-473b-8dbc-7f6f26747915\">\n",
              "  <button class=\"colab-df-quickchart\" onclick=\"quickchart('df-0c2f39b8-bedd-473b-8dbc-7f6f26747915')\"\n",
              "            title=\"Suggest charts\"\n",
              "            style=\"display:none;\">\n",
              "\n",
              "<svg xmlns=\"http://www.w3.org/2000/svg\" height=\"24px\"viewBox=\"0 0 24 24\"\n",
              "     width=\"24px\">\n",
              "    <g>\n",
              "        <path d=\"M19 3H5c-1.1 0-2 .9-2 2v14c0 1.1.9 2 2 2h14c1.1 0 2-.9 2-2V5c0-1.1-.9-2-2-2zM9 17H7v-7h2v7zm4 0h-2V7h2v10zm4 0h-2v-4h2v4z\"/>\n",
              "    </g>\n",
              "</svg>\n",
              "  </button>\n",
              "\n",
              "<style>\n",
              "  .colab-df-quickchart {\n",
              "      --bg-color: #E8F0FE;\n",
              "      --fill-color: #1967D2;\n",
              "      --hover-bg-color: #E2EBFA;\n",
              "      --hover-fill-color: #174EA6;\n",
              "      --disabled-fill-color: #AAA;\n",
              "      --disabled-bg-color: #DDD;\n",
              "  }\n",
              "\n",
              "  [theme=dark] .colab-df-quickchart {\n",
              "      --bg-color: #3B4455;\n",
              "      --fill-color: #D2E3FC;\n",
              "      --hover-bg-color: #434B5C;\n",
              "      --hover-fill-color: #FFFFFF;\n",
              "      --disabled-bg-color: #3B4455;\n",
              "      --disabled-fill-color: #666;\n",
              "  }\n",
              "\n",
              "  .colab-df-quickchart {\n",
              "    background-color: var(--bg-color);\n",
              "    border: none;\n",
              "    border-radius: 50%;\n",
              "    cursor: pointer;\n",
              "    display: none;\n",
              "    fill: var(--fill-color);\n",
              "    height: 32px;\n",
              "    padding: 0;\n",
              "    width: 32px;\n",
              "  }\n",
              "\n",
              "  .colab-df-quickchart:hover {\n",
              "    background-color: var(--hover-bg-color);\n",
              "    box-shadow: 0 1px 2px rgba(60, 64, 67, 0.3), 0 1px 3px 1px rgba(60, 64, 67, 0.15);\n",
              "    fill: var(--button-hover-fill-color);\n",
              "  }\n",
              "\n",
              "  .colab-df-quickchart-complete:disabled,\n",
              "  .colab-df-quickchart-complete:disabled:hover {\n",
              "    background-color: var(--disabled-bg-color);\n",
              "    fill: var(--disabled-fill-color);\n",
              "    box-shadow: none;\n",
              "  }\n",
              "\n",
              "  .colab-df-spinner {\n",
              "    border: 2px solid var(--fill-color);\n",
              "    border-color: transparent;\n",
              "    border-bottom-color: var(--fill-color);\n",
              "    animation:\n",
              "      spin 1s steps(1) infinite;\n",
              "  }\n",
              "\n",
              "  @keyframes spin {\n",
              "    0% {\n",
              "      border-color: transparent;\n",
              "      border-bottom-color: var(--fill-color);\n",
              "      border-left-color: var(--fill-color);\n",
              "    }\n",
              "    20% {\n",
              "      border-color: transparent;\n",
              "      border-left-color: var(--fill-color);\n",
              "      border-top-color: var(--fill-color);\n",
              "    }\n",
              "    30% {\n",
              "      border-color: transparent;\n",
              "      border-left-color: var(--fill-color);\n",
              "      border-top-color: var(--fill-color);\n",
              "      border-right-color: var(--fill-color);\n",
              "    }\n",
              "    40% {\n",
              "      border-color: transparent;\n",
              "      border-right-color: var(--fill-color);\n",
              "      border-top-color: var(--fill-color);\n",
              "    }\n",
              "    60% {\n",
              "      border-color: transparent;\n",
              "      border-right-color: var(--fill-color);\n",
              "    }\n",
              "    80% {\n",
              "      border-color: transparent;\n",
              "      border-right-color: var(--fill-color);\n",
              "      border-bottom-color: var(--fill-color);\n",
              "    }\n",
              "    90% {\n",
              "      border-color: transparent;\n",
              "      border-bottom-color: var(--fill-color);\n",
              "    }\n",
              "  }\n",
              "</style>\n",
              "\n",
              "  <script>\n",
              "    async function quickchart(key) {\n",
              "      const quickchartButtonEl =\n",
              "        document.querySelector('#' + key + ' button');\n",
              "      quickchartButtonEl.disabled = true;  // To prevent multiple clicks.\n",
              "      quickchartButtonEl.classList.add('colab-df-spinner');\n",
              "      try {\n",
              "        const charts = await google.colab.kernel.invokeFunction(\n",
              "            'suggestCharts', [key], {});\n",
              "      } catch (error) {\n",
              "        console.error('Error during call to suggestCharts:', error);\n",
              "      }\n",
              "      quickchartButtonEl.classList.remove('colab-df-spinner');\n",
              "      quickchartButtonEl.classList.add('colab-df-quickchart-complete');\n",
              "    }\n",
              "    (() => {\n",
              "      let quickchartButtonEl =\n",
              "        document.querySelector('#df-0c2f39b8-bedd-473b-8dbc-7f6f26747915 button');\n",
              "      quickchartButtonEl.style.display =\n",
              "        google.colab.kernel.accessAllowed ? 'block' : 'none';\n",
              "    })();\n",
              "  </script>\n",
              "</div>\n",
              "\n",
              "    </div>\n",
              "  </div>\n"
            ],
            "application/vnd.google.colaboratory.intrinsic+json": {
              "type": "dataframe",
              "variable_name": "df",
              "summary": "{\n  \"name\": \"df\",\n  \"rows\": 3276,\n  \"fields\": [\n    {\n      \"column\": \"ph\",\n      \"properties\": {\n        \"dtype\": \"number\",\n        \"std\": 1.5943195187088117,\n        \"min\": 0.0,\n        \"max\": 13.999999999999998,\n        \"num_unique_values\": 2785,\n        \"samples\": [\n          6.569053876389385,\n          9.271355446767778,\n          8.92790592593881\n        ],\n        \"semantic_type\": \"\",\n        \"description\": \"\"\n      }\n    },\n    {\n      \"column\": \"Hardness\",\n      \"properties\": {\n        \"dtype\": \"number\",\n        \"std\": 32.879761476294185,\n        \"min\": 47.432,\n        \"max\": 323.124,\n        \"num_unique_values\": 3276,\n        \"samples\": [\n          183.5211070261417,\n          188.9135411469536,\n          224.05887682392927\n        ],\n        \"semantic_type\": \"\",\n        \"description\": \"\"\n      }\n    },\n    {\n      \"column\": \"Solids\",\n      \"properties\": {\n        \"dtype\": \"number\",\n        \"std\": 8768.570827785932,\n        \"min\": 320.942611274359,\n        \"max\": 61227.19600771213,\n        \"num_unique_values\": 3276,\n        \"samples\": [\n          20461.252710219946,\n          32873.820021715685,\n          23264.10996772913\n        ],\n        \"semantic_type\": \"\",\n        \"description\": \"\"\n      }\n    },\n    {\n      \"column\": \"Chloramines\",\n      \"properties\": {\n        \"dtype\": \"number\",\n        \"std\": 1.58308488903971,\n        \"min\": 0.3520000000000003,\n        \"max\": 13.127000000000002,\n        \"num_unique_values\": 3276,\n        \"samples\": [\n          7.333212177578906,\n          6.791509363412849,\n          5.92236704115349\n        ],\n        \"semantic_type\": \"\",\n        \"description\": \"\"\n      }\n    },\n    {\n      \"column\": \"Sulfate\",\n      \"properties\": {\n        \"dtype\": \"number\",\n        \"std\": 41.416840461672685,\n        \"min\": 129.00000000000003,\n        \"max\": 481.0306423059972,\n        \"num_unique_values\": 2495,\n        \"samples\": [\n          324.64407957923544,\n          370.121384654358,\n          329.12773842254506\n        ],\n        \"semantic_type\": \"\",\n        \"description\": \"\"\n      }\n    },\n    {\n      \"column\": \"Conductivity\",\n      \"properties\": {\n        \"dtype\": \"number\",\n        \"std\": 80.82406405111182,\n        \"min\": 181.483753985146,\n        \"max\": 753.3426195583046,\n        \"num_unique_values\": 3276,\n        \"samples\": [\n          356.3690224100897,\n          336.56150104700754,\n          387.971335796834\n        ],\n        \"semantic_type\": \"\",\n        \"description\": \"\"\n      }\n    },\n    {\n      \"column\": \"Organic_carbon\",\n      \"properties\": {\n        \"dtype\": \"number\",\n        \"std\": 3.308161999126868,\n        \"min\": 2.1999999999999886,\n        \"max\": 28.30000000000001,\n        \"num_unique_values\": 3276,\n        \"samples\": [\n          20.179028868493845,\n          14.706810313722087,\n          13.40673745495127\n        ],\n        \"semantic_type\": \"\",\n        \"description\": \"\"\n      }\n    },\n    {\n      \"column\": \"Trihalomethanes\",\n      \"properties\": {\n        \"dtype\": \"number\",\n        \"std\": 16.17500842221865,\n        \"min\": 0.7379999999999995,\n        \"max\": 124.0,\n        \"num_unique_values\": 3114,\n        \"samples\": [\n          66.163439242252,\n          42.844510851301166,\n          47.06639219544294\n        ],\n        \"semantic_type\": \"\",\n        \"description\": \"\"\n      }\n    },\n    {\n      \"column\": \"Turbidity\",\n      \"properties\": {\n        \"dtype\": \"number\",\n        \"std\": 0.7803824084854116,\n        \"min\": 1.45,\n        \"max\": 6.739,\n        \"num_unique_values\": 3276,\n        \"samples\": [\n          4.886633785371213,\n          4.562197671215202,\n          2.487968647002356\n        ],\n        \"semantic_type\": \"\",\n        \"description\": \"\"\n      }\n    },\n    {\n      \"column\": \"Potability\",\n      \"properties\": {\n        \"dtype\": \"number\",\n        \"std\": 0,\n        \"min\": 0,\n        \"max\": 1,\n        \"num_unique_values\": 2,\n        \"samples\": [\n          1,\n          0\n        ],\n        \"semantic_type\": \"\",\n        \"description\": \"\"\n      }\n    }\n  ]\n}"
            }
          },
          "metadata": {},
          "execution_count": 251
        }
      ]
    },
    {
      "cell_type": "code",
      "source": [
        "# Kategorik Değişkenlerimizi Analiz Edelim\n",
        "\n",
        "def cat_summary(dataframe, col_name, plot=False):\n",
        "  print(pd.DataFrame({col_name: dataframe[col_name].value_counts(),\n",
        "                      \"Ratio\": 100 * dataframe[col_name].value_counts() / len(dataframe)}))\n",
        "  print(\"##########################################\")\n",
        "  if plot:\n",
        "    sns.countplot(x=dataframe[col_name], data = dataframe)\n",
        "    plt.show()"
      ],
      "metadata": {
        "id": "uNSOvXBno-Nt"
      },
      "execution_count": 252,
      "outputs": []
    },
    {
      "cell_type": "code",
      "source": [
        "cat_summary(df, \"Potability\", True)"
      ],
      "metadata": {
        "colab": {
          "base_uri": "https://localhost:8080/",
          "height": 536
        },
        "id": "vatelrOipAAD",
        "outputId": "23dcfab7-36eb-4a8e-93c8-0e61fe30fc6a"
      },
      "execution_count": 253,
      "outputs": [
        {
          "output_type": "stream",
          "name": "stdout",
          "text": [
            "            Potability  Ratio\n",
            "Potability                   \n",
            "0                 1998 60.989\n",
            "1                 1278 39.011\n",
            "##########################################\n"
          ]
        },
        {
          "output_type": "display_data",
          "data": {
            "text/plain": [
              "<Figure size 640x480 with 1 Axes>"
            ],
            "image/png": "[encoded data removed]"
          },
          "metadata": {}
        }
      ]
    },
    {
      "cell_type": "code",
      "source": [
        "# Numerik Değişken Analizi\n",
        "\n",
        "def num_summary(dataframe, numerical_col, plot=False):\n",
        "  quantiles = [0.05, 0.10, 0.20, 0.30, 0.40, 0.50, 0.60, 0.70, 0.80, 0.90, 0.95, 0.99]\n",
        "  print(dataframe[numerical_col].describe(quantiles).T)\n",
        "\n",
        "\n",
        "  if plot:\n",
        "    dataframe[numerical_col].hist(bins=20)\n",
        "    plt.xlabel(numerical_col)\n",
        "    plt.title(numerical_col)\n",
        "    plt.show()"
      ],
      "metadata": {
        "id": "aFUdhB8SpCEY"
      },
      "execution_count": 254,
      "outputs": []
    },
    {
      "cell_type": "code",
      "source": [
        "for col in num_cols:\n",
        "  num_summary(df, col, plot=True)"
      ],
      "metadata": {
        "colab": {
          "base_uri": "https://localhost:8080/",
          "height": 1000
        },
        "id": "Dp1IyRAmpDf7",
        "outputId": "49bfe0bd-ce1f-48a8-8504-22f935706321"
      },
      "execution_count": 255,
      "outputs": [
        {
          "output_type": "stream",
          "name": "stdout",
          "text": [
            "count   2785.000\n",
            "mean       7.081\n",
            "std        1.594\n",
            "min        0.000\n",
            "5%         4.488\n",
            "10%        5.106\n",
            "20%        5.822\n",
            "30%        6.305\n",
            "40%        6.702\n",
            "50%        7.037\n",
            "60%        7.437\n",
            "70%        7.842\n",
            "80%        8.311\n",
            "90%        9.078\n",
            "95%        9.790\n",
            "99%       10.895\n",
            "max       14.000\n",
            "Name: ph, dtype: float64\n"
          ]
        },
        {
          "output_type": "display_data",
          "data": {
            "text/plain": [
              "<Figure size 640x480 with 1 Axes>"
            ],
            "image/png": "[encoded data removed]"
          },
          "metadata": {}
        },
        {
          "output_type": "stream",
          "name": "stdout",
          "text": [
            "count   3276.000\n",
            "mean     196.369\n",
            "std       32.880\n",
            "min       47.432\n",
            "5%       141.763\n",
            "10%      155.224\n",
            "20%      169.944\n",
            "30%      181.382\n",
            "40%      189.261\n",
            "50%      196.968\n",
            "60%      204.124\n",
            "70%      212.428\n",
            "80%      222.269\n",
            "90%      236.351\n",
            "95%      249.610\n",
            "99%      278.063\n",
            "max      323.124\n",
            "Name: Hardness, dtype: float64\n"
          ]
        },
        {
          "output_type": "display_data",
          "data": {
            "text/plain": [
              "<Figure size 640x480 with 1 Axes>"
            ],
            "image/png": "[encoded data removed]"
          },
          "metadata": {}
        },
        {
          "output_type": "stream",
          "name": "stdout",
          "text": [
            "count    3276.000\n",
            "mean    22014.093\n",
            "std      8768.571\n",
            "min       320.943\n",
            "5%       9545.813\n",
            "10%     11740.528\n",
            "20%     14507.018\n",
            "30%     16743.034\n",
            "40%     18894.852\n",
            "50%     20927.834\n",
            "60%     23173.320\n",
            "70%     25914.945\n",
            "80%     28970.088\n",
            "90%     33814.935\n",
            "95%     38474.990\n",
            "99%     45974.106\n",
            "max     61227.196\n",
            "Name: Solids, dtype: float64\n"
          ]
        },
        {
          "output_type": "display_data",
          "data": {
            "text/plain": [
              "<Figure size 640x480 with 1 Axes>"
            ],
            "image/png": "[encoded data removed]"
          },
          "metadata": {}
        },
        {
          "output_type": "stream",
          "name": "stdout",
          "text": [
            "count   3276.000\n",
            "mean       7.122\n",
            "std        1.583\n",
            "min        0.352\n",
            "5%         4.503\n",
            "10%        5.181\n",
            "20%        5.886\n",
            "30%        6.339\n",
            "40%        6.742\n",
            "50%        7.130\n",
            "60%        7.493\n",
            "70%        7.880\n",
            "80%        8.377\n",
            "90%        9.123\n",
            "95%        9.753\n",
            "99%       10.967\n",
            "max       13.127\n",
            "Name: Chloramines, dtype: float64\n"
          ]
        },
        {
          "output_type": "display_data",
          "data": {
            "text/plain": [
              "<Figure size 640x480 with 1 Axes>"
            ],
            "image/png": "[encoded data removed]"
          },
          "metadata": {}
        },
        {
          "output_type": "stream",
          "name": "stdout",
          "text": [
            "count   2495.000\n",
            "mean     333.776\n",
            "std       41.417\n",
            "min      129.000\n",
            "5%       266.616\n",
            "10%      283.147\n",
            "20%      301.074\n",
            "30%      314.053\n",
            "40%      323.531\n",
            "50%      333.074\n",
            "60%      342.095\n",
            "70%      353.003\n",
            "80%      367.369\n",
            "90%      385.967\n",
            "95%      403.070\n",
            "99%      434.022\n",
            "max      481.031\n",
            "Name: Sulfate, dtype: float64\n"
          ]
        },
        {
          "output_type": "display_data",
          "data": {
            "text/plain": [
              "<Figure size 640x480 with 1 Axes>"
            ],
            "image/png": "[encoded data removed]"
          },
          "metadata": {}
        },
        {
          "output_type": "stream",
          "name": "stdout",
          "text": [
            "count   3276.000\n",
            "mean     426.205\n",
            "std       80.824\n",
            "min      181.484\n",
            "5%       300.109\n",
            "10%      325.117\n",
            "20%      353.740\n",
            "30%      377.682\n",
            "40%      399.883\n",
            "50%      421.885\n",
            "60%      443.570\n",
            "70%      470.462\n",
            "80%      496.364\n",
            "90%      533.297\n",
            "95%      566.349\n",
            "99%      617.627\n",
            "max      753.343\n",
            "Name: Conductivity, dtype: float64\n"
          ]
        },
        {
          "output_type": "display_data",
          "data": {
            "text/plain": [
              "<Figure size 640x480 with 1 Axes>"
            ],
            "image/png": "[encoded data removed]"
          },
          "metadata": {}
        },
        {
          "output_type": "stream",
          "name": "stdout",
          "text": [
            "count   3276.000\n",
            "mean      14.285\n",
            "std        3.308\n",
            "min        2.200\n",
            "5%         8.815\n",
            "10%       10.124\n",
            "20%       11.540\n",
            "30%       12.507\n",
            "40%       13.433\n",
            "50%       14.218\n",
            "60%       15.102\n",
            "70%       16.033\n",
            "80%       17.132\n",
            "90%       18.505\n",
            "95%       19.637\n",
            "99%       22.090\n",
            "max       28.300\n",
            "Name: Organic_carbon, dtype: float64\n"
          ]
        },
        {
          "output_type": "display_data",
          "data": {
            "text/plain": [
              "<Figure size 640x480 with 1 Axes>"
            ],
            "image/png": "[encoded data removed]"
          },
          "metadata": {}
        },
        {
          "output_type": "stream",
          "name": "stdout",
          "text": [
            "count   3114.000\n",
            "mean      66.396\n",
            "std       16.175\n",
            "min        0.738\n",
            "5%        39.553\n",
            "10%       45.846\n",
            "20%       53.107\n",
            "30%       58.690\n",
            "40%       62.656\n",
            "50%       66.622\n",
            "60%       70.446\n",
            "70%       74.886\n",
            "80%       79.701\n",
            "90%       86.492\n",
            "95%       92.124\n",
            "99%      104.739\n",
            "max      124.000\n",
            "Name: Trihalomethanes, dtype: float64\n"
          ]
        },
        {
          "output_type": "display_data",
          "data": {
            "text/plain": [
              "<Figure size 640x480 with 1 Axes>"
            ],
            "image/png": "[encoded data removed]"
          },
          "metadata": {}
        },
        {
          "output_type": "stream",
          "name": "stdout",
          "text": [
            "count   3276.000\n",
            "mean       3.967\n",
            "std        0.780\n",
            "min        1.450\n",
            "5%         2.684\n",
            "10%        2.952\n",
            "20%        3.306\n",
            "30%        3.557\n",
            "40%        3.764\n",
            "50%        3.955\n",
            "60%        4.168\n",
            "70%        4.377\n",
            "80%        4.621\n",
            "90%        4.977\n",
            "95%        5.221\n",
            "99%        5.742\n",
            "max        6.739\n",
            "Name: Turbidity, dtype: float64\n"
          ]
        },
        {
          "output_type": "display_data",
          "data": {
            "text/plain": [
              "<Figure size 640x480 with 1 Axes>"
            ],
            "image/png": "[encoded data removed]"
          },
          "metadata": {}
        }
      ]
    },
    {
      "cell_type": "code",
      "source": [
        "# Numerik Değişkenlerin Hedef Değişkene Göre Analizi\n",
        "\n",
        "def target_summary_with_num(dataframe, target, numerical_col):\n",
        "  print(dataframe.groupby(target).agg({numerical_col: \"mean\"}), end=\"\\n\\n\\n\")"
      ],
      "metadata": {
        "id": "o90MxmOzpGu7"
      },
      "execution_count": 256,
      "outputs": []
    },
    {
      "cell_type": "code",
      "source": [
        "for col in num_cols:\n",
        "  target_summary_with_num(df, \"Potability\", col)"
      ],
      "metadata": {
        "colab": {
          "base_uri": "https://localhost:8080/"
        },
        "id": "mLZyS-6OpI1t",
        "outputId": "e293c414-0e39-4574-f292-4d6fa9156596"
      },
      "execution_count": 257,
      "outputs": [
        {
          "output_type": "stream",
          "name": "stdout",
          "text": [
            "              ph\n",
            "Potability      \n",
            "0          7.085\n",
            "1          7.074\n",
            "\n",
            "\n",
            "            Hardness\n",
            "Potability          \n",
            "0            196.733\n",
            "1            195.801\n",
            "\n",
            "\n",
            "              Solids\n",
            "Potability          \n",
            "0          21777.491\n",
            "1          22383.991\n",
            "\n",
            "\n",
            "            Chloramines\n",
            "Potability             \n",
            "0                 7.092\n",
            "1                 7.169\n",
            "\n",
            "\n",
            "            Sulfate\n",
            "Potability         \n",
            "0           334.564\n",
            "1           332.567\n",
            "\n",
            "\n",
            "            Conductivity\n",
            "Potability              \n",
            "0                426.730\n",
            "1                425.384\n",
            "\n",
            "\n",
            "            Organic_carbon\n",
            "Potability                \n",
            "0                   14.364\n",
            "1                   14.161\n",
            "\n",
            "\n",
            "            Trihalomethanes\n",
            "Potability                 \n",
            "0                    66.304\n",
            "1                    66.540\n",
            "\n",
            "\n",
            "            Turbidity\n",
            "Potability           \n",
            "0               3.966\n",
            "1               3.968\n",
            "\n",
            "\n"
          ]
        }
      ]
    },
    {
      "cell_type": "code",
      "source": [
        "# KORELASYON"
      ],
      "metadata": {
        "id": "QgGOuEsppMqh"
      },
      "execution_count": 258,
      "outputs": []
    },
    {
      "cell_type": "code",
      "source": [
        "df.corr()"
      ],
      "metadata": {
        "colab": {
          "base_uri": "https://localhost:8080/",
          "height": 363
        },
        "id": "qSBKUi9bpOdQ",
        "outputId": "3b9cb8fb-eefb-4d28-84f5-0c0b24c0b0fa"
      },
      "execution_count": 259,
      "outputs": [
        {
          "output_type": "execute_result",
          "data": {
            "text/plain": [
              "                    ph  Hardness  Solids  Chloramines  Sulfate  Conductivity  Organic_carbon  \\\n",
              "ph               1.000     0.082  -0.089       -0.034    0.018         0.019           0.044   \n",
              "Hardness         0.082     1.000  -0.047       -0.030   -0.107        -0.024           0.004   \n",
              "Solids          -0.089    -0.047   1.000       -0.070   -0.172         0.014           0.010   \n",
              "Chloramines     -0.034    -0.030  -0.070        1.000    0.027        -0.020          -0.013   \n",
              "Sulfate          0.018    -0.107  -0.172        0.027    1.000        -0.016           0.031   \n",
              "Conductivity     0.019    -0.024   0.014       -0.020   -0.016         1.000           0.021   \n",
              "Organic_carbon   0.044     0.004   0.010       -0.013    0.031         0.021           1.000   \n",
              "Trihalomethanes  0.003    -0.013  -0.009        0.017   -0.030         0.001          -0.013   \n",
              "Turbidity       -0.039    -0.014   0.020        0.002   -0.011         0.006          -0.027   \n",
              "Potability      -0.004    -0.014   0.034        0.024   -0.024        -0.008          -0.030   \n",
              "\n",
              "                 Trihalomethanes  Turbidity  Potability  \n",
              "ph                         0.003     -0.039      -0.004  \n",
              "Hardness                  -0.013     -0.014      -0.014  \n",
              "Solids                    -0.009      0.020       0.034  \n",
              "Chloramines                0.017      0.002       0.024  \n",
              "Sulfate                   -0.030     -0.011      -0.024  \n",
              "Conductivity               0.001      0.006      -0.008  \n",
              "Organic_carbon            -0.013     -0.027      -0.030  \n",
              "Trihalomethanes            1.000     -0.022       0.007  \n",
              "Turbidity                 -0.022      1.000       0.002  \n",
              "Potability                 0.007      0.002       1.000  "
            ],
            "text/html": [
              "\n",
              "  <div id=\"df-e29578bc-7565-4578-8cf6-47519d26a431\" class=\"colab-df-container\">\n",
              "    <div>\n",
              "<style scoped>\n",
              "    .dataframe tbody tr th:only-of-type {\n",
              "        vertical-align: middle;\n",
              "    }\n",
              "\n",
              "    .dataframe tbody tr th {\n",
              "        vertical-align: top;\n",
              "    }\n",
              "\n",
              "    .dataframe thead th {\n",
              "        text-align: right;\n",
              "    }\n",
              "</style>\n",
              "<table border=\"1\" class=\"dataframe\">\n",
              "  <thead>\n",
              "    <tr style=\"text-align: right;\">\n",
              "      <th></th>\n",
              "      <th>ph</th>\n",
              "      <th>Hardness</th>\n",
              "      <th>Solids</th>\n",
              "      <th>Chloramines</th>\n",
              "      <th>Sulfate</th>\n",
              "      <th>Conductivity</th>\n",
              "      <th>Organic_carbon</th>\n",
              "      <th>Trihalomethanes</th>\n",
              "      <th>Turbidity</th>\n",
              "      <th>Potability</th>\n",
              "    </tr>\n",
              "  </thead>\n",
              "  <tbody>\n",
              "    <tr>\n",
              "      <th>ph</th>\n",
              "      <td>1.000</td>\n",
              "      <td>0.082</td>\n",
              "      <td>-0.089</td>\n",
              "      <td>-0.034</td>\n",
              "      <td>0.018</td>\n",
              "      <td>0.019</td>\n",
              "      <td>0.044</td>\n",
              "      <td>0.003</td>\n",
              "      <td>-0.039</td>\n",
              "      <td>-0.004</td>\n",
              "    </tr>\n",
              "    <tr>\n",
              "      <th>Hardness</th>\n",
              "      <td>0.082</td>\n",
              "      <td>1.000</td>\n",
              "      <td>-0.047</td>\n",
              "      <td>-0.030</td>\n",
              "      <td>-0.107</td>\n",
              "      <td>-0.024</td>\n",
              "      <td>0.004</td>\n",
              "      <td>-0.013</td>\n",
              "      <td>-0.014</td>\n",
              "      <td>-0.014</td>\n",
              "    </tr>\n",
              "    <tr>\n",
              "      <th>Solids</th>\n",
              "      <td>-0.089</td>\n",
              "      <td>-0.047</td>\n",
              "      <td>1.000</td>\n",
              "      <td>-0.070</td>\n",
              "      <td>-0.172</td>\n",
              "      <td>0.014</td>\n",
              "      <td>0.010</td>\n",
              "      <td>-0.009</td>\n",
              "      <td>0.020</td>\n",
              "      <td>0.034</td>\n",
              "    </tr>\n",
              "    <tr>\n",
              "      <th>Chloramines</th>\n",
              "      <td>-0.034</td>\n",
              "      <td>-0.030</td>\n",
              "      <td>-0.070</td>\n",
              "      <td>1.000</td>\n",
              "      <td>0.027</td>\n",
              "      <td>-0.020</td>\n",
              "      <td>-0.013</td>\n",
              "      <td>0.017</td>\n",
              "      <td>0.002</td>\n",
              "      <td>0.024</td>\n",
              "    </tr>\n",
              "    <tr>\n",
              "      <th>Sulfate</th>\n",
              "      <td>0.018</td>\n",
              "      <td>-0.107</td>\n",
              "      <td>-0.172</td>\n",
              "      <td>0.027</td>\n",
              "      <td>1.000</td>\n",
              "      <td>-0.016</td>\n",
              "      <td>0.031</td>\n",
              "      <td>-0.030</td>\n",
              "      <td>-0.011</td>\n",
              "      <td>-0.024</td>\n",
              "    </tr>\n",
              "    <tr>\n",
              "      <th>Conductivity</th>\n",
              "      <td>0.019</td>\n",
              "      <td>-0.024</td>\n",
              "      <td>0.014</td>\n",
              "      <td>-0.020</td>\n",
              "      <td>-0.016</td>\n",
              "      <td>1.000</td>\n",
              "      <td>0.021</td>\n",
              "      <td>0.001</td>\n",
              "      <td>0.006</td>\n",
              "      <td>-0.008</td>\n",
              "    </tr>\n",
              "    <tr>\n",
              "      <th>Organic_carbon</th>\n",
              "      <td>0.044</td>\n",
              "      <td>0.004</td>\n",
              "      <td>0.010</td>\n",
              "      <td>-0.013</td>\n",
              "      <td>0.031</td>\n",
              "      <td>0.021</td>\n",
              "      <td>1.000</td>\n",
              "      <td>-0.013</td>\n",
              "      <td>-0.027</td>\n",
              "      <td>-0.030</td>\n",
              "    </tr>\n",
              "    <tr>\n",
              "      <th>Trihalomethanes</th>\n",
              "      <td>0.003</td>\n",
              "      <td>-0.013</td>\n",
              "      <td>-0.009</td>\n",
              "      <td>0.017</td>\n",
              "      <td>-0.030</td>\n",
              "      <td>0.001</td>\n",
              "      <td>-0.013</td>\n",
              "      <td>1.000</td>\n",
              "      <td>-0.022</td>\n",
              "      <td>0.007</td>\n",
              "    </tr>\n",
              "    <tr>\n",
              "      <th>Turbidity</th>\n",
              "      <td>-0.039</td>\n",
              "      <td>-0.014</td>\n",
              "      <td>0.020</td>\n",
              "      <td>0.002</td>\n",
              "      <td>-0.011</td>\n",
              "      <td>0.006</td>\n",
              "      <td>-0.027</td>\n",
              "      <td>-0.022</td>\n",
              "      <td>1.000</td>\n",
              "      <td>0.002</td>\n",
              "    </tr>\n",
              "    <tr>\n",
              "      <th>Potability</th>\n",
              "      <td>-0.004</td>\n",
              "      <td>-0.014</td>\n",
              "      <td>0.034</td>\n",
              "      <td>0.024</td>\n",
              "      <td>-0.024</td>\n",
              "      <td>-0.008</td>\n",
              "      <td>-0.030</td>\n",
              "      <td>0.007</td>\n",
              "      <td>0.002</td>\n",
              "      <td>1.000</td>\n",
              "    </tr>\n",
              "  </tbody>\n",
              "</table>\n",
              "</div>\n",
              "    <div class=\"colab-df-buttons\">\n",
              "\n",
              "  <div class=\"colab-df-container\">\n",
              "    <button class=\"colab-df-convert\" onclick=\"convertToInteractive('df-e29578bc-7565-4578-8cf6-47519d26a431')\"\n",
              "            title=\"Convert this dataframe to an interactive table.\"\n",
              "            style=\"display:none;\">\n",
              "\n",
              "  <svg xmlns=\"http://www.w3.org/2000/svg\" height=\"24px\" viewBox=\"0 -960 960 960\">\n",
              "    <path d=\"M120-120v-720h720v720H120Zm60-500h600v-160H180v160Zm220 220h160v-160H400v160Zm0 220h160v-160H400v160ZM180-400h160v-160H180v160Zm440 0h160v-160H620v160ZM180-180h160v-160H180v160Zm440 0h160v-160H620v160Z\"/>\n",
              "  </svg>\n",
              "    </button>\n",
              "\n",
              "  <style>\n",
              "    .colab-df-container {\n",
              "      display:flex;\n",
              "      gap: 12px;\n",
              "    }\n",
              "\n",
              "    .colab-df-convert {\n",
              "      background-color: #E8F0FE;\n",
              "      border: none;\n",
              "      border-radius: 50%;\n",
              "      cursor: pointer;\n",
              "      display: none;\n",
              "      fill: #1967D2;\n",
              "      height: 32px;\n",
              "      padding: 0 0 0 0;\n",
              "      width: 32px;\n",
              "    }\n",
              "\n",
              "    .colab-df-convert:hover {\n",
              "      background-color: #E2EBFA;\n",
              "      box-shadow: 0px 1px 2px rgba(60, 64, 67, 0.3), 0px 1px 3px 1px rgba(60, 64, 67, 0.15);\n",
              "      fill: #174EA6;\n",
              "    }\n",
              "\n",
              "    .colab-df-buttons div {\n",
              "      margin-bottom: 4px;\n",
              "    }\n",
              "\n",
              "    [theme=dark] .colab-df-convert {\n",
              "      background-color: #3B4455;\n",
              "      fill: #D2E3FC;\n",
              "    }\n",
              "\n",
              "    [theme=dark] .colab-df-convert:hover {\n",
              "      background-color: #434B5C;\n",
              "      box-shadow: 0px 1px 3px 1px rgba(0, 0, 0, 0.15);\n",
              "      filter: drop-shadow(0px 1px 2px rgba(0, 0, 0, 0.3));\n",
              "      fill: #FFFFFF;\n",
              "    }\n",
              "  </style>\n",
              "\n",
              "    <script>\n",
              "      const buttonEl =\n",
              "        document.querySelector('#df-e29578bc-7565-4578-8cf6-47519d26a431 button.colab-df-convert');\n",
              "      buttonEl.style.display =\n",
              "        google.colab.kernel.accessAllowed ? 'block' : 'none';\n",
              "\n",
              "      async function convertToInteractive(key) {\n",
              "        const element = document.querySelector('#df-e29578bc-7565-4578-8cf6-47519d26a431');\n",
              "        const dataTable =\n",
              "          await google.colab.kernel.invokeFunction('convertToInteractive',\n",
              "                                                    [key], {});\n",
              "        if (!dataTable) return;\n",
              "\n",
              "        const docLinkHtml = 'Like what you see? Visit the ' +\n",
              "          '<a target=\"_blank\" href=https://colab.research.google.com/notebooks/data_table.ipynb>data table notebook</a>'\n",
              "          + ' to learn more about interactive tables.';\n",
              "        element.innerHTML = '';\n",
              "        dataTable['output_type'] = 'display_data';\n",
              "        await google.colab.output.renderOutput(dataTable, element);\n",
              "        const docLink = document.createElement('div');\n",
              "        docLink.innerHTML = docLinkHtml;\n",
              "        element.appendChild(docLink);\n",
              "      }\n",
              "    </script>\n",
              "  </div>\n",
              "\n",
              "\n",
              "<div id=\"df-95def824-9066-4f00-950b-cac26b486f79\">\n",
              "  <button class=\"colab-df-quickchart\" onclick=\"quickchart('df-95def824-9066-4f00-950b-cac26b486f79')\"\n",
              "            title=\"Suggest charts\"\n",
              "            style=\"display:none;\">\n",
              "\n",
              "<svg xmlns=\"http://www.w3.org/2000/svg\" height=\"24px\"viewBox=\"0 0 24 24\"\n",
              "     width=\"24px\">\n",
              "    <g>\n",
              "        <path d=\"M19 3H5c-1.1 0-2 .9-2 2v14c0 1.1.9 2 2 2h14c1.1 0 2-.9 2-2V5c0-1.1-.9-2-2-2zM9 17H7v-7h2v7zm4 0h-2V7h2v10zm4 0h-2v-4h2v4z\"/>\n",
              "    </g>\n",
              "</svg>\n",
              "  </button>\n",
              "\n",
              "<style>\n",
              "  .colab-df-quickchart {\n",
              "      --bg-color: #E8F0FE;\n",
              "      --fill-color: #1967D2;\n",
              "      --hover-bg-color: #E2EBFA;\n",
              "      --hover-fill-color: #174EA6;\n",
              "      --disabled-fill-color: #AAA;\n",
              "      --disabled-bg-color: #DDD;\n",
              "  }\n",
              "\n",
              "  [theme=dark] .colab-df-quickchart {\n",
              "      --bg-color: #3B4455;\n",
              "      --fill-color: #D2E3FC;\n",
              "      --hover-bg-color: #434B5C;\n",
              "      --hover-fill-color: #FFFFFF;\n",
              "      --disabled-bg-color: #3B4455;\n",
              "      --disabled-fill-color: #666;\n",
              "  }\n",
              "\n",
              "  .colab-df-quickchart {\n",
              "    background-color: var(--bg-color);\n",
              "    border: none;\n",
              "    border-radius: 50%;\n",
              "    cursor: pointer;\n",
              "    display: none;\n",
              "    fill: var(--fill-color);\n",
              "    height: 32px;\n",
              "    padding: 0;\n",
              "    width: 32px;\n",
              "  }\n",
              "\n",
              "  .colab-df-quickchart:hover {\n",
              "    background-color: var(--hover-bg-color);\n",
              "    box-shadow: 0 1px 2px rgba(60, 64, 67, 0.3), 0 1px 3px 1px rgba(60, 64, 67, 0.15);\n",
              "    fill: var(--button-hover-fill-color);\n",
              "  }\n",
              "\n",
              "  .colab-df-quickchart-complete:disabled,\n",
              "  .colab-df-quickchart-complete:disabled:hover {\n",
              "    background-color: var(--disabled-bg-color);\n",
              "    fill: var(--disabled-fill-color);\n",
              "    box-shadow: none;\n",
              "  }\n",
              "\n",
              "  .colab-df-spinner {\n",
              "    border: 2px solid var(--fill-color);\n",
              "    border-color: transparent;\n",
              "    border-bottom-color: var(--fill-color);\n",
              "    animation:\n",
              "      spin 1s steps(1) infinite;\n",
              "  }\n",
              "\n",
              "  @keyframes spin {\n",
              "    0% {\n",
              "      border-color: transparent;\n",
              "      border-bottom-color: var(--fill-color);\n",
              "      border-left-color: var(--fill-color);\n",
              "    }\n",
              "    20% {\n",
              "      border-color: transparent;\n",
              "      border-left-color: var(--fill-color);\n",
              "      border-top-color: var(--fill-color);\n",
              "    }\n",
              "    30% {\n",
              "      border-color: transparent;\n",
              "      border-left-color: var(--fill-color);\n",
              "      border-top-color: var(--fill-color);\n",
              "      border-right-color: var(--fill-color);\n",
              "    }\n",
              "    40% {\n",
              "      border-color: transparent;\n",
              "      border-right-color: var(--fill-color);\n",
              "      border-top-color: var(--fill-color);\n",
              "    }\n",
              "    60% {\n",
              "      border-color: transparent;\n",
              "      border-right-color: var(--fill-color);\n",
              "    }\n",
              "    80% {\n",
              "      border-color: transparent;\n",
              "      border-right-color: var(--fill-color);\n",
              "      border-bottom-color: var(--fill-color);\n",
              "    }\n",
              "    90% {\n",
              "      border-color: transparent;\n",
              "      border-bottom-color: var(--fill-color);\n",
              "    }\n",
              "  }\n",
              "</style>\n",
              "\n",
              "  <script>\n",
              "    async function quickchart(key) {\n",
              "      const quickchartButtonEl =\n",
              "        document.querySelector('#' + key + ' button');\n",
              "      quickchartButtonEl.disabled = true;  // To prevent multiple clicks.\n",
              "      quickchartButtonEl.classList.add('colab-df-spinner');\n",
              "      try {\n",
              "        const charts = await google.colab.kernel.invokeFunction(\n",
              "            'suggestCharts', [key], {});\n",
              "      } catch (error) {\n",
              "        console.error('Error during call to suggestCharts:', error);\n",
              "      }\n",
              "      quickchartButtonEl.classList.remove('colab-df-spinner');\n",
              "      quickchartButtonEl.classList.add('colab-df-quickchart-complete');\n",
              "    }\n",
              "    (() => {\n",
              "      let quickchartButtonEl =\n",
              "        document.querySelector('#df-95def824-9066-4f00-950b-cac26b486f79 button');\n",
              "      quickchartButtonEl.style.display =\n",
              "        google.colab.kernel.accessAllowed ? 'block' : 'none';\n",
              "    })();\n",
              "  </script>\n",
              "</div>\n",
              "\n",
              "    </div>\n",
              "  </div>\n"
            ],
            "application/vnd.google.colaboratory.intrinsic+json": {
              "type": "dataframe",
              "summary": "{\n  \"name\": \"df\",\n  \"rows\": 10,\n  \"fields\": [\n    {\n      \"column\": \"ph\",\n      \"properties\": {\n        \"dtype\": \"number\",\n        \"std\": 0.31974083413373006,\n        \"min\": -0.08928825011982429,\n        \"max\": 1.0,\n        \"num_unique_values\": 10,\n        \"samples\": [\n          -0.03905666613664019,\n          0.08209640686603702,\n          0.018614209503621658\n        ],\n        \"semantic_type\": \"\",\n        \"description\": \"\"\n      }\n    },\n    {\n      \"column\": \"Hardness\",\n      \"properties\": {\n        \"dtype\": \"number\",\n        \"std\": 0.3253096218385854,\n        \"min\": -0.10692345399851362,\n        \"max\": 1.0,\n        \"num_unique_values\": 10,\n        \"samples\": [\n          -0.014449129313291509,\n          1.0,\n          -0.023914599662821827\n        ],\n        \"semantic_type\": \"\",\n        \"description\": \"\"\n      }\n    },\n    {\n      \"column\": \"Solids\",\n      \"properties\": {\n        \"dtype\": \"number\",\n        \"std\": 0.3331480748417079,\n        \"min\": -0.17180427470199292,\n        \"max\": 1.0,\n        \"num_unique_values\": 10,\n        \"samples\": [\n          0.019546144182463494,\n          -0.04689936548817769,\n          0.013830898324440413\n        ],\n        \"semantic_type\": \"\",\n        \"description\": \"\"\n      }\n    },\n    {\n      \"column\": \"Chloramines\",\n      \"properties\": {\n        \"dtype\": \"number\",\n        \"std\": 0.3210551698191087,\n        \"min\": -0.07014757983260811,\n        \"max\": 1.0,\n        \"num_unique_values\": 10,\n        \"samples\": [\n          0.0023633210684490037,\n          -0.03005423856376886,\n          -0.02048640920836434\n        ],\n        \"semantic_type\": \"\",\n        \"description\": \"\"\n      }\n    },\n    {\n      \"column\": \"Sulfate\",\n      \"properties\": {\n        \"dtype\": \"number\",\n        \"std\": 0.33224976178207655,\n        \"min\": -0.17180427470199292,\n        \"max\": 1.0,\n        \"num_unique_values\": 10,\n        \"samples\": [\n          -0.011186961299773687,\n          -0.10692345399851362,\n          -0.016120564484978474\n        ],\n        \"semantic_type\": \"\",\n        \"description\": \"\"\n      }\n    },\n    {\n      \"column\": \"Conductivity\",\n      \"properties\": {\n        \"dtype\": \"number\",\n        \"std\": 0.3169217460968781,\n        \"min\": -0.023914599662821827,\n        \"max\": 1.0,\n        \"num_unique_values\": 10,\n        \"samples\": [\n          0.005798167748576468,\n          -0.023914599662821827,\n          1.0\n        ],\n        \"semantic_type\": \"\",\n        \"description\": \"\"\n      }\n    },\n    {\n      \"column\": \"Organic_carbon\",\n      \"properties\": {\n        \"dtype\": \"number\",\n        \"std\": 0.3162510197393999,\n        \"min\": -0.030001366610944234,\n        \"max\": 1.0,\n        \"num_unique_values\": 10,\n        \"samples\": [\n          -0.027308113024473623,\n          0.003610040323735707,\n          0.020966360660054594\n        ],\n        \"semantic_type\": \"\",\n        \"description\": \"\"\n      }\n    },\n    {\n      \"column\": \"Trihalomethanes\",\n      \"properties\": {\n        \"dtype\": \"number\",\n        \"std\": 0.31861554532858366,\n        \"min\": -0.03027406187757645,\n        \"max\": 1.0,\n        \"num_unique_values\": 10,\n        \"samples\": [\n          -0.022144966846641502,\n          -0.013013215587152972,\n          0.0012852360715532888\n        ],\n        \"semantic_type\": \"\",\n        \"description\": \"\"\n      }\n    },\n    {\n      \"column\": \"Turbidity\",\n      \"properties\": {\n        \"dtype\": \"number\",\n        \"std\": 0.31968224848764065,\n        \"min\": -0.03905666613664019,\n        \"max\": 1.0,\n        \"num_unique_values\": 10,\n        \"samples\": [\n          1.0,\n          -0.014449129313291509,\n          0.005798167748576468\n        ],\n        \"semantic_type\": \"\",\n        \"description\": \"\"\n      }\n    },\n    {\n      \"column\": \"Potability\",\n      \"properties\": {\n        \"dtype\": \"number\",\n        \"std\": 0.31728715354845877,\n        \"min\": -0.030001366610944234,\n        \"max\": 1.0,\n        \"num_unique_values\": 10,\n        \"samples\": [\n          0.0015806819539225805,\n          -0.013836558085111897,\n          -0.008128319721545636\n        ],\n        \"semantic_type\": \"\",\n        \"description\": \"\"\n      }\n    }\n  ]\n}"
            }
          },
          "metadata": {},
          "execution_count": 259
        }
      ]
    },
    {
      "cell_type": "code",
      "source": [
        "# Korelasyon Matrisi\n",
        "f, ax = plt.subplots(figsize=[18, 13])\n",
        "sns.heatmap(df.corr(), annot=True, fmt=\".2f\", ax = ax, cmap=\"magma\")\n",
        "ax.set_title(\"Correlation Matrix\", fontsize=20)\n",
        "plt.show()"
      ],
      "metadata": {
        "colab": {
          "base_uri": "https://localhost:8080/",
          "height": 1000
        },
        "id": "rgB1HbkQpzWh",
        "outputId": "ed1ae353-fc77-41d3-b301-47a4249040a7"
      },
      "execution_count": 260,
      "outputs": [
        {
          "output_type": "display_data",
          "data": {
            "text/plain": [
              "<Figure size 1800x1300 with 2 Axes>"
            ],
            "image/png": "[encoded data removed]"
          },
          "metadata": {}
        }
      ]
    },
    {
      "cell_type": "code",
      "source": [
        "# Eksik değer varsa eksik değerlerin toplamını ve oranını yazdıran fonksiyon\n",
        "def missing_values_table(dataframe, na_name=False):\n",
        "  na_columns = [col for col in dataframe.columns if dataframe[col].isnull().sum() > 0]\n",
        "  n_miss = dataframe[na_columns].isnull().sum().sort_values(ascending=False)\n",
        "  ratio = (dataframe[na_columns].isnull().sum() / dataframe.shape[0] * 100).sort_values(ascending=False)\n",
        "  missing_df = pd.concat([n_miss, np.round(ratio, 2)], axis=1, keys=[\"n_miss\", \"ratio\"])\n",
        "  print(missing_df, end=\"\\n\")\n",
        "\n",
        "  if na_name:\n",
        "    return na_columns"
      ],
      "metadata": {
        "id": "gaT5IhKtp7ih"
      },
      "execution_count": 261,
      "outputs": []
    },
    {
      "cell_type": "code",
      "source": [
        "na_columns = missing_values_table(df,True)"
      ],
      "metadata": {
        "colab": {
          "base_uri": "https://localhost:8080/"
        },
        "id": "tHMyPcJnp9Pz",
        "outputId": "2d95d8e7-dcba-435d-963f-744a53315232"
      },
      "execution_count": 262,
      "outputs": [
        {
          "output_type": "stream",
          "name": "stdout",
          "text": [
            "                 n_miss  ratio\n",
            "Sulfate             781 23.840\n",
            "ph                  491 14.990\n",
            "Trihalomethanes     162  4.950\n"
          ]
        }
      ]
    },
    {
      "cell_type": "code",
      "source": [
        "# Eksik değerlerin bağımlı değişken ile ilişkisini inceleyelim\n",
        "\n",
        "def missing_vs_target(dataframe, target, na_columns):\n",
        "  temp_df = dataframe.copy()\n",
        "  for col in na_columns:\n",
        "    temp_df[col + \"_NA_FLAG\"] = np.where(temp_df[col].isnull(), 1, 0)\n",
        "  na_flags = temp_df.loc[:, temp_df.columns.str.contains(\"_NA_\")].columns\n",
        "  for col in na_flags:\n",
        "    print(pd.DataFrame({\"TARGET_MEAN\": temp_df.groupby(col)[target].mean(),\n",
        "                          \"Count\": temp_df.groupby(col)[target].count()}), end=\"\\n\\n\\n\")"
      ],
      "metadata": {
        "id": "bll2HyNop-2w"
      },
      "execution_count": 263,
      "outputs": []
    },
    {
      "cell_type": "code",
      "source": [
        "missing_vs_target(df, \"Potability\", na_columns)"
      ],
      "metadata": {
        "colab": {
          "base_uri": "https://localhost:8080/"
        },
        "id": "SZLV_IY-qAiQ",
        "outputId": "ea0ae3e3-8555-4b66-9701-4da8bd83afec"
      },
      "execution_count": 264,
      "outputs": [
        {
          "output_type": "stream",
          "name": "stdout",
          "text": [
            "            TARGET_MEAN  Count\n",
            "ph_NA_FLAG                    \n",
            "0                 0.395   2785\n",
            "1                 0.360    491\n",
            "\n",
            "\n",
            "                 TARGET_MEAN  Count\n",
            "Sulfate_NA_FLAG                    \n",
            "0                      0.395   2495\n",
            "1                      0.375    781\n",
            "\n",
            "\n",
            "                         TARGET_MEAN  Count\n",
            "Trihalomethanes_NA_FLAG                    \n",
            "0                              0.393   3114\n",
            "1                              0.340    162\n",
            "\n",
            "\n"
          ]
        }
      ]
    },
    {
      "cell_type": "code",
      "source": [
        "# Eksik Değerlerin Doldurulması\n",
        "df[\"ph\"].fillna(df.groupby(\"Potability\")[\"ph\"].transform(\"median\"), inplace=True)\n",
        "df[\"Sulfate\"].fillna(df.groupby(\"Potability\")[\"Sulfate\"].transform(\"median\"), inplace=True)\n",
        "df[\"Trihalomethanes\"].fillna(df.groupby(\"Potability\")[\"Trihalomethanes\"].transform(\"median\"), inplace=True)"
      ],
      "metadata": {
        "id": "P3SepqYcqDoz"
      },
      "execution_count": 265,
      "outputs": []
    },
    {
      "cell_type": "code",
      "source": [
        "# Eksik Değerlerimize Bakalım\n",
        "df.isnull().sum()"
      ],
      "metadata": {
        "colab": {
          "base_uri": "https://localhost:8080/",
          "height": 398
        },
        "id": "j--GpQO6qFX1",
        "outputId": "cc37185d-53ac-457e-e5f2-d82d302f4bfb"
      },
      "execution_count": 266,
      "outputs": [
        {
          "output_type": "execute_result",
          "data": {
            "text/plain": [
              "ph                 0\n",
              "Hardness           0\n",
              "Solids             0\n",
              "Chloramines        0\n",
              "Sulfate            0\n",
              "Conductivity       0\n",
              "Organic_carbon     0\n",
              "Trihalomethanes    0\n",
              "Turbidity          0\n",
              "Potability         0\n",
              "dtype: int64"
            ],
            "text/html": [
              "<div>\n",
              "<style scoped>\n",
              "    .dataframe tbody tr th:only-of-type {\n",
              "        vertical-align: middle;\n",
              "    }\n",
              "\n",
              "    .dataframe tbody tr th {\n",
              "        vertical-align: top;\n",
              "    }\n",
              "\n",
              "    .dataframe thead th {\n",
              "        text-align: right;\n",
              "    }\n",
              "</style>\n",
              "<table border=\"1\" class=\"dataframe\">\n",
              "  <thead>\n",
              "    <tr style=\"text-align: right;\">\n",
              "      <th></th>\n",
              "      <th>0</th>\n",
              "    </tr>\n",
              "  </thead>\n",
              "  <tbody>\n",
              "    <tr>\n",
              "      <th>ph</th>\n",
              "      <td>0</td>\n",
              "    </tr>\n",
              "    <tr>\n",
              "      <th>Hardness</th>\n",
              "      <td>0</td>\n",
              "    </tr>\n",
              "    <tr>\n",
              "      <th>Solids</th>\n",
              "      <td>0</td>\n",
              "    </tr>\n",
              "    <tr>\n",
              "      <th>Chloramines</th>\n",
              "      <td>0</td>\n",
              "    </tr>\n",
              "    <tr>\n",
              "      <th>Sulfate</th>\n",
              "      <td>0</td>\n",
              "    </tr>\n",
              "    <tr>\n",
              "      <th>Conductivity</th>\n",
              "      <td>0</td>\n",
              "    </tr>\n",
              "    <tr>\n",
              "      <th>Organic_carbon</th>\n",
              "      <td>0</td>\n",
              "    </tr>\n",
              "    <tr>\n",
              "      <th>Trihalomethanes</th>\n",
              "      <td>0</td>\n",
              "    </tr>\n",
              "    <tr>\n",
              "      <th>Turbidity</th>\n",
              "      <td>0</td>\n",
              "    </tr>\n",
              "    <tr>\n",
              "      <th>Potability</th>\n",
              "      <td>0</td>\n",
              "    </tr>\n",
              "  </tbody>\n",
              "</table>\n",
              "</div><br><label><b>dtype:</b> int64</label>"
            ]
          },
          "metadata": {},
          "execution_count": 266
        }
      ]
    },
    {
      "cell_type": "code",
      "source": [
        "# Öyle bir fonksiyon yazalım ki kendisine girilen değerlerin eşik değerlerini hesaplıyor olsun\n",
        "def outlier_thresholds(dataframe, col_name, q1=0.25, q3=0.75):\n",
        "  quartile1 = dataframe[col_name].quantile(q1)\n",
        "  quartile3 = dataframe[col_name].quantile(q3)\n",
        "  interquantile_range = quartile3 - quartile1\n",
        "  up_limit = quartile3 + 1.5 * interquantile_range\n",
        "  low_limit = quartile1 - 1.5 * interquantile_range\n",
        "  return low_limit, up_limit"
      ],
      "metadata": {
        "id": "u6gozaGqqHvo"
      },
      "execution_count": 267,
      "outputs": []
    },
    {
      "cell_type": "code",
      "source": [
        "# Şimdi aykırı değer var mı yok mu diye bir fonksiyon yazalım\n",
        "\n",
        "def check_outlier(dataframe, col_name):\n",
        "  low_limit, up_limit = outlier_thresholds(dataframe, col_name)\n",
        "  if dataframe[(dataframe[col_name] > up_limit) | (dataframe[col_name] < low_limit)].any(axis=None):\n",
        "    return True\n",
        "  else:\n",
        "    return False"
      ],
      "metadata": {
        "id": "Wsyg9F36qJec"
      },
      "execution_count": 268,
      "outputs": []
    },
    {
      "cell_type": "code",
      "source": [
        "def replace_with_thresholds(dataframe, variable):\n",
        "  low_limit, up_limit = outlier_thresholds(dataframe, variable)\n",
        "  dataframe.loc[(dataframe[variable] < low_limit), variable] = low_limit     # Alt aykırı değer varsa low_limit'e eşitle\n",
        "  dataframe.loc[(dataframe[variable] > up_limit), variable] = up_limit       # Üst aykırı değer varsa up_limit'e eşitle"
      ],
      "metadata": {
        "id": "tMcOLrRoqLFC"
      },
      "execution_count": 269,
      "outputs": []
    },
    {
      "cell_type": "code",
      "source": [
        "# Aykırı Değer Analizi ve Baskılama İşlemi\n",
        "\n",
        "for col in df.columns:\n",
        "  print(col, check_outlier(df, col))\n",
        "  if check_outlier(df, col):\n",
        "    replace_with_thresholds(df, col)"
      ],
      "metadata": {
        "colab": {
          "base_uri": "https://localhost:8080/"
        },
        "id": "bjhdyzbJqMfD",
        "outputId": "750cb532-b8cb-4672-d601-9912515fd59e"
      },
      "execution_count": 270,
      "outputs": [
        {
          "output_type": "stream",
          "name": "stdout",
          "text": [
            "ph True\n",
            "Hardness True\n",
            "Solids True\n",
            "Chloramines True\n",
            "Sulfate True\n",
            "Conductivity True\n",
            "Organic_carbon True\n",
            "Trihalomethanes True\n",
            "Turbidity True\n",
            "Potability False\n"
          ]
        }
      ]
    },
    {
      "cell_type": "code",
      "source": [
        "for col in df.columns:\n",
        "  print(col, check_outlier(df, col))"
      ],
      "metadata": {
        "colab": {
          "base_uri": "https://localhost:8080/"
        },
        "id": "rF4RqrXVqOI3",
        "outputId": "7449735e-21ec-47a9-9512-f058ccf1e2d3"
      },
      "execution_count": 271,
      "outputs": [
        {
          "output_type": "stream",
          "name": "stdout",
          "text": [
            "ph False\n",
            "Hardness False\n",
            "Solids False\n",
            "Chloramines False\n",
            "Sulfate False\n",
            "Conductivity False\n",
            "Organic_carbon False\n",
            "Trihalomethanes False\n",
            "Turbidity False\n",
            "Potability False\n"
          ]
        }
      ]
    },
    {
      "cell_type": "code",
      "source": [
        "df.head()"
      ],
      "metadata": {
        "colab": {
          "base_uri": "https://localhost:8080/",
          "height": 206
        },
        "id": "QdTcFv4bqPoF",
        "outputId": "2b9accb2-cccf-42bc-dbc9-15a8d7a25b5c"
      },
      "execution_count": 272,
      "outputs": [
        {
          "output_type": "execute_result",
          "data": {
            "text/plain": [
              "     ph  Hardness    Solids  Chloramines  Sulfate  Conductivity  Organic_carbon  Trihalomethanes  \\\n",
              "0 7.035   204.890 20791.319        7.300  368.516       564.309          10.380           86.991   \n",
              "1 3.889   129.423 18630.058        6.635  333.389       592.885          15.180           56.329   \n",
              "2 8.099   224.236 19909.542        9.276  333.389       418.606          16.869           66.420   \n",
              "3 8.317   214.373 22018.417        8.059  356.886       363.267          18.437          100.342   \n",
              "4 9.092   181.102 17978.986        6.547  310.136       398.411          11.558           31.998   \n",
              "\n",
              "   Turbidity  Potability  \n",
              "0      2.963           0  \n",
              "1      4.501           0  \n",
              "2      3.056           0  \n",
              "3      4.629           0  \n",
              "4      4.075           0  "
            ],
            "text/html": [
              "\n",
              "  <div id=\"df-fcd58483-db24-4f5a-980b-8e5425573893\" class=\"colab-df-container\">\n",
              "    <div>\n",
              "<style scoped>\n",
              "    .dataframe tbody tr th:only-of-type {\n",
              "        vertical-align: middle;\n",
              "    }\n",
              "\n",
              "    .dataframe tbody tr th {\n",
              "        vertical-align: top;\n",
              "    }\n",
              "\n",
              "    .dataframe thead th {\n",
              "        text-align: right;\n",
              "    }\n",
              "</style>\n",
              "<table border=\"1\" class=\"dataframe\">\n",
              "  <thead>\n",
              "    <tr style=\"text-align: right;\">\n",
              "      <th></th>\n",
              "      <th>ph</th>\n",
              "      <th>Hardness</th>\n",
              "      <th>Solids</th>\n",
              "      <th>Chloramines</th>\n",
              "      <th>Sulfate</th>\n",
              "      <th>Conductivity</th>\n",
              "      <th>Organic_carbon</th>\n",
              "      <th>Trihalomethanes</th>\n",
              "      <th>Turbidity</th>\n",
              "      <th>Potability</th>\n",
              "    </tr>\n",
              "  </thead>\n",
              "  <tbody>\n",
              "    <tr>\n",
              "      <th>0</th>\n",
              "      <td>7.035</td>\n",
              "      <td>204.890</td>\n",
              "      <td>20791.319</td>\n",
              "      <td>7.300</td>\n",
              "      <td>368.516</td>\n",
              "      <td>564.309</td>\n",
              "      <td>10.380</td>\n",
              "      <td>86.991</td>\n",
              "      <td>2.963</td>\n",
              "      <td>0</td>\n",
              "    </tr>\n",
              "    <tr>\n",
              "      <th>1</th>\n",
              "      <td>3.889</td>\n",
              "      <td>129.423</td>\n",
              "      <td>18630.058</td>\n",
              "      <td>6.635</td>\n",
              "      <td>333.389</td>\n",
              "      <td>592.885</td>\n",
              "      <td>15.180</td>\n",
              "      <td>56.329</td>\n",
              "      <td>4.501</td>\n",
              "      <td>0</td>\n",
              "    </tr>\n",
              "    <tr>\n",
              "      <th>2</th>\n",
              "      <td>8.099</td>\n",
              "      <td>224.236</td>\n",
              "      <td>19909.542</td>\n",
              "      <td>9.276</td>\n",
              "      <td>333.389</td>\n",
              "      <td>418.606</td>\n",
              "      <td>16.869</td>\n",
              "      <td>66.420</td>\n",
              "      <td>3.056</td>\n",
              "      <td>0</td>\n",
              "    </tr>\n",
              "    <tr>\n",
              "      <th>3</th>\n",
              "      <td>8.317</td>\n",
              "      <td>214.373</td>\n",
              "      <td>22018.417</td>\n",
              "      <td>8.059</td>\n",
              "      <td>356.886</td>\n",
              "      <td>363.267</td>\n",
              "      <td>18.437</td>\n",
              "      <td>100.342</td>\n",
              "      <td>4.629</td>\n",
              "      <td>0</td>\n",
              "    </tr>\n",
              "    <tr>\n",
              "      <th>4</th>\n",
              "      <td>9.092</td>\n",
              "      <td>181.102</td>\n",
              "      <td>17978.986</td>\n",
              "      <td>6.547</td>\n",
              "      <td>310.136</td>\n",
              "      <td>398.411</td>\n",
              "      <td>11.558</td>\n",
              "      <td>31.998</td>\n",
              "      <td>4.075</td>\n",
              "      <td>0</td>\n",
              "    </tr>\n",
              "  </tbody>\n",
              "</table>\n",
              "</div>\n",
              "    <div class=\"colab-df-buttons\">\n",
              "\n",
              "  <div class=\"colab-df-container\">\n",
              "    <button class=\"colab-df-convert\" onclick=\"convertToInteractive('df-fcd58483-db24-4f5a-980b-8e5425573893')\"\n",
              "            title=\"Convert this dataframe to an interactive table.\"\n",
              "            style=\"display:none;\">\n",
              "\n",
              "  <svg xmlns=\"http://www.w3.org/2000/svg\" height=\"24px\" viewBox=\"0 -960 960 960\">\n",
              "    <path d=\"M120-120v-720h720v720H120Zm60-500h600v-160H180v160Zm220 220h160v-160H400v160Zm0 220h160v-160H400v160ZM180-400h160v-160H180v160Zm440 0h160v-160H620v160ZM180-180h160v-160H180v160Zm440 0h160v-160H620v160Z\"/>\n",
              "  </svg>\n",
              "    </button>\n",
              "\n",
              "  <style>\n",
              "    .colab-df-container {\n",
              "      display:flex;\n",
              "      gap: 12px;\n",
              "    }\n",
              "\n",
              "    .colab-df-convert {\n",
              "      background-color: #E8F0FE;\n",
              "      border: none;\n",
              "      border-radius: 50%;\n",
              "      cursor: pointer;\n",
              "      display: none;\n",
              "      fill: #1967D2;\n",
              "      height: 32px;\n",
              "      padding: 0 0 0 0;\n",
              "      width: 32px;\n",
              "    }\n",
              "\n",
              "    .colab-df-convert:hover {\n",
              "      background-color: #E2EBFA;\n",
              "      box-shadow: 0px 1px 2px rgba(60, 64, 67, 0.3), 0px 1px 3px 1px rgba(60, 64, 67, 0.15);\n",
              "      fill: #174EA6;\n",
              "    }\n",
              "\n",
              "    .colab-df-buttons div {\n",
              "      margin-bottom: 4px;\n",
              "    }\n",
              "\n",
              "    [theme=dark] .colab-df-convert {\n",
              "      background-color: #3B4455;\n",
              "      fill: #D2E3FC;\n",
              "    }\n",
              "\n",
              "    [theme=dark] .colab-df-convert:hover {\n",
              "      background-color: #434B5C;\n",
              "      box-shadow: 0px 1px 3px 1px rgba(0, 0, 0, 0.15);\n",
              "      filter: drop-shadow(0px 1px 2px rgba(0, 0, 0, 0.3));\n",
              "      fill: #FFFFFF;\n",
              "    }\n",
              "  </style>\n",
              "\n",
              "    <script>\n",
              "      const buttonEl =\n",
              "        document.querySelector('#df-fcd58483-db24-4f5a-980b-8e5425573893 button.colab-df-convert');\n",
              "      buttonEl.style.display =\n",
              "        google.colab.kernel.accessAllowed ? 'block' : 'none';\n",
              "\n",
              "      async function convertToInteractive(key) {\n",
              "        const element = document.querySelector('#df-fcd58483-db24-4f5a-980b-8e5425573893');\n",
              "        const dataTable =\n",
              "          await google.colab.kernel.invokeFunction('convertToInteractive',\n",
              "                                                    [key], {});\n",
              "        if (!dataTable) return;\n",
              "\n",
              "        const docLinkHtml = 'Like what you see? Visit the ' +\n",
              "          '<a target=\"_blank\" href=https://colab.research.google.com/notebooks/data_table.ipynb>data table notebook</a>'\n",
              "          + ' to learn more about interactive tables.';\n",
              "        element.innerHTML = '';\n",
              "        dataTable['output_type'] = 'display_data';\n",
              "        await google.colab.output.renderOutput(dataTable, element);\n",
              "        const docLink = document.createElement('div');\n",
              "        docLink.innerHTML = docLinkHtml;\n",
              "        element.appendChild(docLink);\n",
              "      }\n",
              "    </script>\n",
              "  </div>\n",
              "\n",
              "\n",
              "<div id=\"df-235c4b15-ee6a-48c4-99ed-fd7339fcbf5f\">\n",
              "  <button class=\"colab-df-quickchart\" onclick=\"quickchart('df-235c4b15-ee6a-48c4-99ed-fd7339fcbf5f')\"\n",
              "            title=\"Suggest charts\"\n",
              "            style=\"display:none;\">\n",
              "\n",
              "<svg xmlns=\"http://www.w3.org/2000/svg\" height=\"24px\"viewBox=\"0 0 24 24\"\n",
              "     width=\"24px\">\n",
              "    <g>\n",
              "        <path d=\"M19 3H5c-1.1 0-2 .9-2 2v14c0 1.1.9 2 2 2h14c1.1 0 2-.9 2-2V5c0-1.1-.9-2-2-2zM9 17H7v-7h2v7zm4 0h-2V7h2v10zm4 0h-2v-4h2v4z\"/>\n",
              "    </g>\n",
              "</svg>\n",
              "  </button>\n",
              "\n",
              "<style>\n",
              "  .colab-df-quickchart {\n",
              "      --bg-color: #E8F0FE;\n",
              "      --fill-color: #1967D2;\n",
              "      --hover-bg-color: #E2EBFA;\n",
              "      --hover-fill-color: #174EA6;\n",
              "      --disabled-fill-color: #AAA;\n",
              "      --disabled-bg-color: #DDD;\n",
              "  }\n",
              "\n",
              "  [theme=dark] .colab-df-quickchart {\n",
              "      --bg-color: #3B4455;\n",
              "      --fill-color: #D2E3FC;\n",
              "      --hover-bg-color: #434B5C;\n",
              "      --hover-fill-color: #FFFFFF;\n",
              "      --disabled-bg-color: #3B4455;\n",
              "      --disabled-fill-color: #666;\n",
              "  }\n",
              "\n",
              "  .colab-df-quickchart {\n",
              "    background-color: var(--bg-color);\n",
              "    border: none;\n",
              "    border-radius: 50%;\n",
              "    cursor: pointer;\n",
              "    display: none;\n",
              "    fill: var(--fill-color);\n",
              "    height: 32px;\n",
              "    padding: 0;\n",
              "    width: 32px;\n",
              "  }\n",
              "\n",
              "  .colab-df-quickchart:hover {\n",
              "    background-color: var(--hover-bg-color);\n",
              "    box-shadow: 0 1px 2px rgba(60, 64, 67, 0.3), 0 1px 3px 1px rgba(60, 64, 67, 0.15);\n",
              "    fill: var(--button-hover-fill-color);\n",
              "  }\n",
              "\n",
              "  .colab-df-quickchart-complete:disabled,\n",
              "  .colab-df-quickchart-complete:disabled:hover {\n",
              "    background-color: var(--disabled-bg-color);\n",
              "    fill: var(--disabled-fill-color);\n",
              "    box-shadow: none;\n",
              "  }\n",
              "\n",
              "  .colab-df-spinner {\n",
              "    border: 2px solid var(--fill-color);\n",
              "    border-color: transparent;\n",
              "    border-bottom-color: var(--fill-color);\n",
              "    animation:\n",
              "      spin 1s steps(1) infinite;\n",
              "  }\n",
              "\n",
              "  @keyframes spin {\n",
              "    0% {\n",
              "      border-color: transparent;\n",
              "      border-bottom-color: var(--fill-color);\n",
              "      border-left-color: var(--fill-color);\n",
              "    }\n",
              "    20% {\n",
              "      border-color: transparent;\n",
              "      border-left-color: var(--fill-color);\n",
              "      border-top-color: var(--fill-color);\n",
              "    }\n",
              "    30% {\n",
              "      border-color: transparent;\n",
              "      border-left-color: var(--fill-color);\n",
              "      border-top-color: var(--fill-color);\n",
              "      border-right-color: var(--fill-color);\n",
              "    }\n",
              "    40% {\n",
              "      border-color: transparent;\n",
              "      border-right-color: var(--fill-color);\n",
              "      border-top-color: var(--fill-color);\n",
              "    }\n",
              "    60% {\n",
              "      border-color: transparent;\n",
              "      border-right-color: var(--fill-color);\n",
              "    }\n",
              "    80% {\n",
              "      border-color: transparent;\n",
              "      border-right-color: var(--fill-color);\n",
              "      border-bottom-color: var(--fill-color);\n",
              "    }\n",
              "    90% {\n",
              "      border-color: transparent;\n",
              "      border-bottom-color: var(--fill-color);\n",
              "    }\n",
              "  }\n",
              "</style>\n",
              "\n",
              "  <script>\n",
              "    async function quickchart(key) {\n",
              "      const quickchartButtonEl =\n",
              "        document.querySelector('#' + key + ' button');\n",
              "      quickchartButtonEl.disabled = true;  // To prevent multiple clicks.\n",
              "      quickchartButtonEl.classList.add('colab-df-spinner');\n",
              "      try {\n",
              "        const charts = await google.colab.kernel.invokeFunction(\n",
              "            'suggestCharts', [key], {});\n",
              "      } catch (error) {\n",
              "        console.error('Error during call to suggestCharts:', error);\n",
              "      }\n",
              "      quickchartButtonEl.classList.remove('colab-df-spinner');\n",
              "      quickchartButtonEl.classList.add('colab-df-quickchart-complete');\n",
              "    }\n",
              "    (() => {\n",
              "      let quickchartButtonEl =\n",
              "        document.querySelector('#df-235c4b15-ee6a-48c4-99ed-fd7339fcbf5f button');\n",
              "      quickchartButtonEl.style.display =\n",
              "        google.colab.kernel.accessAllowed ? 'block' : 'none';\n",
              "    })();\n",
              "  </script>\n",
              "</div>\n",
              "\n",
              "    </div>\n",
              "  </div>\n"
            ],
            "application/vnd.google.colaboratory.intrinsic+json": {
              "type": "dataframe",
              "variable_name": "df",
              "summary": "{\n  \"name\": \"df\",\n  \"rows\": 3276,\n  \"fields\": [\n    {\n      \"column\": \"ph\",\n      \"properties\": {\n        \"dtype\": \"number\",\n        \"std\": 1.3820396612649855,\n        \"min\": 3.889106956840228,\n        \"max\": 10.258615434291345,\n        \"num_unique_values\": 2646,\n        \"samples\": [\n          6.630251708982636,\n          7.603775446495936,\n          7.88659122732868\n        ],\n        \"semantic_type\": \"\",\n        \"description\": \"\"\n      }\n    },\n    {\n      \"column\": \"Hardness\",\n      \"properties\": {\n        \"dtype\": \"number\",\n        \"std\": 32.0171893240504,\n        \"min\": 117.12516037150485,\n        \"max\": 276.3928337208903,\n        \"num_unique_values\": 3195,\n        \"samples\": [\n          205.6387902697325,\n          213.54193229259064,\n          134.75051216758874\n        ],\n        \"semantic_type\": \"\",\n        \"description\": \"\"\n      }\n    },\n    {\n      \"column\": \"Solids\",\n      \"properties\": {\n        \"dtype\": \"number\",\n        \"std\": 8592.820396897505,\n        \"min\": 320.942611274359,\n        \"max\": 44831.86987314956,\n        \"num_unique_values\": 3230,\n        \"samples\": [\n          14859.059660678646,\n          20743.348404224074,\n          16953.89873630931\n        ],\n        \"semantic_type\": \"\",\n        \"description\": \"\"\n      }\n    },\n    {\n      \"column\": \"Chloramines\",\n      \"properties\": {\n        \"dtype\": \"number\",\n        \"std\": 1.544126212624123,\n        \"min\": 3.1462213405647073,\n        \"max\": 11.09608644703562,\n        \"num_unique_values\": 3217,\n        \"samples\": [\n          4.823831505497687,\n          5.33620199356427,\n          6.250578031106523\n        ],\n        \"semantic_type\": \"\",\n        \"description\": \"\"\n      }\n    },\n    {\n      \"column\": \"Sulfate\",\n      \"properties\": {\n        \"dtype\": \"number\",\n        \"std\": 31.77289543388717,\n        \"min\": 267.15795986167404,\n        \"max\": 400.3224341668413,\n        \"num_unique_values\": 2234,\n        \"samples\": [\n          355.30498040498367,\n          386.54118470183,\n          278.4282649508009\n        ],\n        \"semantic_type\": \"\",\n        \"description\": \"\"\n      }\n    },\n    {\n      \"column\": \"Conductivity\",\n      \"properties\": {\n        \"dtype\": \"number\",\n        \"std\": 80.56414377902172,\n        \"min\": 191.64757856456453,\n        \"max\": 655.8791400416264,\n        \"num_unique_values\": 3267,\n        \"samples\": [\n          436.3356220967888,\n          360.06047735582746,\n          498.142386052752\n        ],\n        \"semantic_type\": \"\",\n        \"description\": \"\"\n      }\n    },\n    {\n      \"column\": \"Organic_carbon\",\n      \"properties\": {\n        \"dtype\": \"number\",\n        \"std\": 3.2883667161960326,\n        \"min\": 5.328026018267515,\n        \"max\": 23.295426859188986,\n        \"num_unique_values\": 3253,\n        \"samples\": [\n          15.673883024056863,\n          20.09841289135693,\n          13.47515848600733\n        ],\n        \"semantic_type\": \"\",\n        \"description\": \"\"\n      }\n    },\n    {\n      \"column\": \"Trihalomethanes\",\n      \"properties\": {\n        \"dtype\": \"number\",\n        \"std\": 15.487193400245866,\n        \"min\": 26.619225158022296,\n        \"max\": 106.69503986064285,\n        \"num_unique_values\": 3062,\n        \"samples\": [\n          73.2489843314067,\n          49.57430829984224,\n          58.57460973392724\n        ],\n        \"semantic_type\": \"\",\n        \"description\": \"\"\n      }\n    },\n    {\n      \"column\": \"Turbidity\",\n      \"properties\": {\n        \"dtype\": \"number\",\n        \"std\": 0.7764085970881656,\n        \"min\": 1.8487974931046152,\n        \"max\": 6.091233163793407,\n        \"num_unique_values\": 3259,\n        \"samples\": [\n          4.30405163167599,\n          4.20158090550856,\n          4.494544339362194\n        ],\n        \"semantic_type\": \"\",\n        \"description\": \"\"\n      }\n    },\n    {\n      \"column\": \"Potability\",\n      \"properties\": {\n        \"dtype\": \"number\",\n        \"std\": 0,\n        \"min\": 0,\n        \"max\": 1,\n        \"num_unique_values\": 2,\n        \"samples\": [\n          1,\n          0\n        ],\n        \"semantic_type\": \"\",\n        \"description\": \"\"\n      }\n    }\n  ]\n}"
            }
          },
          "metadata": {},
          "execution_count": 272
        }
      ]
    },
    {
      "cell_type": "code",
      "source": [
        "def potability_data_prep(df):\n",
        "  # Özellik Çıkarımı\n",
        "  df[\"ph_Category\"] = pd.cut(df[\"ph\"], bins=[0, 6.5, 8.5, 14], labels=[\"Asidik\", \"Nötr\", \"Bazik\"])\n",
        "  df[\"Total_Chemicals\"] = df[\"Sulfate\"] + df[\"Trihalomethanes\"] + df[\"Chloramines\"] + df[\"Organic_carbon\"]\n",
        "\n",
        "  cat_cols, num_cols, cat_but_car = grab_col_names(df)\n",
        "\n",
        "  # Label Encoding\n",
        "  def label_encoder(dataframe, binary_col):\n",
        "    labelencoder = LabelEncoder()\n",
        "    dataframe[binary_col] = labelencoder.fit_transform(dataframe[binary_col])\n",
        "    return dataframe\n",
        "\n",
        "  binary_cols = [col for col in df.columns if df[col].dtypes == \"O\" and df[col].nunique() == 2]\n",
        "\n",
        "  for col in binary_cols:\n",
        "    df = label_encoder(df, col)\n",
        "\n",
        "  # One-Hot Encoding İşlemi\n",
        "  # cat_cols listesinin güncelleme işlemi\n",
        "  cat_cols = [col for col in cat_cols if col not in binary_cols and col not in [\"Potability\"]]\n",
        "\n",
        "\n",
        "  def one_hot_encoder(dataframe, categorical_cols, drop_first=False):\n",
        "    dataframe = pd.get_dummies(dataframe, columns=categorical_cols, drop_first=drop_first)\n",
        "    return dataframe\n",
        "\n",
        "  df = one_hot_encoder(df, cat_cols, drop_first=True)\n",
        "\n",
        "  # boolean değerleri numeric yapalım\n",
        "  df = df.applymap(lambda x: int(x) if isinstance(x, bool) else x)\n",
        "\n",
        "\n",
        "  scaler = StandardScaler()\n",
        "  df[num_cols] = scaler.fit_transform(df[num_cols])\n",
        "\n",
        "\n",
        "  # MODELLEME\n",
        "  y = df[\"Potability\"]\n",
        "  X = df.drop(\"Potability\", axis=1)\n",
        "\n",
        "  return X, y\n"
      ],
      "metadata": {
        "id": "VPZMEttkqdtX"
      },
      "execution_count": 273,
      "outputs": []
    },
    {
      "cell_type": "code",
      "source": [
        "# Base Models\n",
        "def base_models(X, y, scoring=\"roc_auc\"):\n",
        "    print(\"Base Models....\")\n",
        "    classifiers = [('LR', LogisticRegression()),\n",
        "                   ('KNN', KNeighborsClassifier()),\n",
        "                   (\"SVC\", SVC()),\n",
        "                   (\"CART\", DecisionTreeClassifier()),\n",
        "                   (\"RF\", RandomForestClassifier()),\n",
        "                   ('Adaboost', AdaBoostClassifier()),\n",
        "                   ('GBM', GradientBoostingClassifier()),\n",
        "                   ('XGBoost', XGBClassifier(use_label_encoder=False, eval_metric='logloss')),\n",
        "                   ('LightGBM', LGBMClassifier())\n",
        "                   ]\n",
        "    for name, classifier in classifiers:\n",
        "         cv_results = cross_validate(classifier, X, y, cv=3, scoring=scoring)\n",
        "         print(f\"{scoring}: {round(cv_results['test_score'].mean(), 4)} ({name}) \")"
      ],
      "metadata": {
        "id": "nkuLL89ir79I"
      },
      "execution_count": 274,
      "outputs": []
    },
    {
      "cell_type": "code",
      "source": [
        "# Hyperparameter Optimization"
      ],
      "metadata": {
        "id": "Aqx5hqhps1tI"
      },
      "execution_count": 275,
      "outputs": []
    },
    {
      "cell_type": "code",
      "source": [
        "rf_params = {\"max_depth\": [8, 15, None],\n",
        "             \"max_features\": [5, 7, \"auto\"],\n",
        "             \"min_samples_split\": [15, 20],\n",
        "             \"n_estimators\": [200, 300]}"
      ],
      "metadata": {
        "id": "vw4ij-xXs2Js"
      },
      "execution_count": 276,
      "outputs": []
    },
    {
      "cell_type": "code",
      "source": [
        "# Hata almamak için ön tanımlı değerleride dikkate almamız gerekiyor.\n",
        "gbm_params = {\"learning_rate\": [0.01, 0.1],\n",
        "              \"max_depth\": [3, 8, 10],\n",
        "              \"n_estimators\": [100, 500, 1000],\n",
        "              \"subsample\": [1, 0.5, 0.7]}"
      ],
      "metadata": {
        "id": "mraT1CBas3nf"
      },
      "execution_count": 277,
      "outputs": []
    },
    {
      "cell_type": "code",
      "source": [
        "xgboost_params = {\"learning_rate\": [0.01, 0.1],\n",
        "                  \"max_depth\": [3, 6, 9],\n",
        "                  \"n_estimators\": [100, 300, 500]}\n"
      ],
      "metadata": {
        "id": "R9kzqtsSs9HG"
      },
      "execution_count": 278,
      "outputs": []
    },
    {
      "cell_type": "code",
      "source": [
        "lightgbm_params = {\"learning_rate\": [0.01, 0.1],\n",
        "                   \"n_estimators\": [300, 500],\n",
        "                   \"colsample_bytree\": [0.7, 1]}"
      ],
      "metadata": {
        "id": "eKJMg67Cs-63"
      },
      "execution_count": 279,
      "outputs": []
    },
    {
      "cell_type": "code",
      "source": [
        "classifiers = [\n",
        "               (\"RF\", RandomForestClassifier(), rf_params),\n",
        "               (\"GBM\", GradientBoostingClassifier(), gbm_params),\n",
        "               ('XGBoost', XGBClassifier(use_label_encoder=False, eval_metric='logloss'), xgboost_params),\n",
        "               ('LightGBM', LGBMClassifier(), lightgbm_params)\n",
        "               ]"
      ],
      "metadata": {
        "id": "eMJE8S9OtAbd"
      },
      "execution_count": 280,
      "outputs": []
    },
    {
      "cell_type": "code",
      "source": [
        "def hyperparameter_optimization(X, y, cv=3, scoring=\"accuracy\"):\n",
        "    print(\"Hyperparameter Optimization....\")\n",
        "    best_models = {}\n",
        "    for name, classifier, params in classifiers:\n",
        "        print(f\"########## {name} ##########\")\n",
        "        cv_results = cross_validate(classifier, X, y, cv=cv, scoring=scoring)\n",
        "        print(f\"{scoring} (Before): {round(cv_results['test_score'].mean(), 4)}\")\n",
        "\n",
        "        gs_best = GridSearchCV(classifier, params, cv=cv, n_jobs=-1, verbose=False).fit(X, y)\n",
        "        final_model = classifier.set_params(**gs_best.best_params_)\n",
        "\n",
        "        cv_results = cross_validate(final_model, X, y, cv=cv, scoring=scoring)\n",
        "        print(f\"{scoring} (After): {round(cv_results['test_score'].mean(), 4)}\")\n",
        "        print(f\"{name} best params: {gs_best.best_params_}\", end=\"\\n\\n\")\n",
        "        best_models[name] = final_model\n",
        "    return best_models"
      ],
      "metadata": {
        "id": "2qgPaB3LtF33"
      },
      "execution_count": 281,
      "outputs": []
    },
    {
      "cell_type": "code",
      "source": [
        "def voting_classifier(best_models, X, y):\n",
        "    print(\"Voting Classifier...\")\n",
        "    voting_clf = VotingClassifier(estimators=[('RF', best_models[\"RF\"]),\n",
        "                                              ('GBM', best_models[\"GBM\"]),\n",
        "                                              ('XGBoost', best_models[\"XGBoost\"]),\n",
        "                                              ('LightGBM', best_models[\"LightGBM\"]),],\n",
        "                                  voting='soft').fit(X, y)\n",
        "    cv_results = cross_validate(voting_clf, X, y, cv=3, scoring=[\"accuracy\", \"f1\", \"roc_auc\"])\n",
        "    print(f\"Accuracy: {cv_results['test_accuracy'].mean()}\")\n",
        "    print(f\"F1Score: {cv_results['test_f1'].mean()}\")\n",
        "    print(f\"ROC_AUC: {cv_results['test_roc_auc'].mean()}\")\n",
        "    return voting_clf"
      ],
      "metadata": {
        "id": "d5RcT4O6tKFw"
      },
      "execution_count": 282,
      "outputs": []
    },
    {
      "cell_type": "code",
      "source": [
        "def main():\n",
        "    X, y = potability_data_prep(df)\n",
        "    base_models(X, y)\n",
        "    best_models = hyperparameter_optimization(X, y)\n",
        "    voting_clf = voting_classifier(best_models, X, y)\n",
        "    joblib.dump(voting_clf, \"voting_clf.pkl\")\n",
        "    return voting_clf"
      ],
      "metadata": {
        "id": "QV542Q7ItNvU"
      },
      "execution_count": 283,
      "outputs": []
    },
    {
      "cell_type": "code",
      "source": [
        "if __name__ == \"__main__\":\n",
        "    print(\"İşlem başladı\")\n",
        "    main()"
      ],
      "metadata": {
        "colab": {
          "base_uri": "https://localhost:8080/"
        },
        "id": "DLK21jRft4lP",
        "outputId": "cdbe636f-f70d-49fa-8cba-df1673016528"
      },
      "execution_count": 284,
      "outputs": [
        {
          "output_type": "stream",
          "name": "stdout",
          "text": [
            "İşlem başladı\n",
            "observations: 3276\n",
            "variables: 12\n",
            "cat_cols: 2\n",
            "num_cols: 10\n",
            "cat_but_car: 0\n",
            "num_but_cat: 2\n",
            "Base Models....\n",
            "roc_auc: 0.5186 (LR) \n",
            "roc_auc: 0.556 (KNN) \n",
            "roc_auc: 0.6089 (SVC) \n",
            "roc_auc: 0.6911 (CART) \n",
            "roc_auc: 0.8146 (RF) \n",
            "roc_auc: 0.8031 (Adaboost) \n",
            "roc_auc: 0.8281 (GBM) \n",
            "roc_auc: 0.8214 (XGBoost) \n",
            "[LightGBM] [Info] Number of positive: 852, number of negative: 1332\n",
            "[LightGBM] [Info] Auto-choosing row-wise multi-threading, the overhead of testing was 0.001214 seconds.\n",
            "You can set `force_row_wise=true` to remove the overhead.\n",
            "And if memory is not enough, you can set `force_col_wise=true`.\n",
            "[LightGBM] [Info] Total Bins 2554\n",
            "[LightGBM] [Info] Number of data points in the train set: 2184, number of used features: 12\n",
            "[LightGBM] [Info] [binary:BoostFromScore]: pavg=0.390110 -> initscore=-0.446850\n",
            "[LightGBM] [Info] Start training from score -0.446850\n",
            "[LightGBM] [Info] Number of positive: 852, number of negative: 1332\n",
            "[LightGBM] [Info] Auto-choosing col-wise multi-threading, the overhead of testing was 0.000384 seconds.\n",
            "You can set `force_col_wise=true` to remove the overhead.\n",
            "[LightGBM] [Info] Total Bins 2554\n",
            "[LightGBM] [Info] Number of data points in the train set: 2184, number of used features: 12\n",
            "[LightGBM] [Info] [binary:BoostFromScore]: pavg=0.390110 -> initscore=-0.446850\n",
            "[LightGBM] [Info] Start training from score -0.446850\n",
            "[LightGBM] [Info] Number of positive: 852, number of negative: 1332\n",
            "[LightGBM] [Info] Auto-choosing col-wise multi-threading, the overhead of testing was 0.000271 seconds.\n",
            "You can set `force_col_wise=true` to remove the overhead.\n",
            "[LightGBM] [Info] Total Bins 2554\n",
            "[LightGBM] [Info] Number of data points in the train set: 2184, number of used features: 12\n",
            "[LightGBM] [Info] [binary:BoostFromScore]: pavg=0.390110 -> initscore=-0.446850\n",
            "[LightGBM] [Info] Start training from score -0.446850\n",
            "roc_auc: 0.8248 (LightGBM) \n",
            "Hyperparameter Optimization....\n",
            "########## RF ##########\n",
            "accuracy (Before): 0.761\n",
            "accuracy (After): 0.7653\n",
            "RF best params: {'max_depth': 8, 'max_features': 5, 'min_samples_split': 20, 'n_estimators': 300}\n",
            "\n",
            "########## GBM ##########\n",
            "accuracy (Before): 0.7552\n",
            "accuracy (After): 0.7628\n",
            "GBM best params: {'learning_rate': 0.01, 'max_depth': 3, 'n_estimators': 500, 'subsample': 0.7}\n",
            "\n",
            "########## XGBoost ##########\n",
            "accuracy (Before): 0.7494\n",
            "accuracy (After): 0.7671\n",
            "XGBoost best params: {'learning_rate': 0.01, 'max_depth': 3, 'n_estimators': 500}\n",
            "\n",
            "########## LightGBM ##########\n",
            "[LightGBM] [Info] Number of positive: 852, number of negative: 1332\n",
            "[LightGBM] [Info] Auto-choosing col-wise multi-threading, the overhead of testing was 0.000385 seconds.\n",
            "You can set `force_col_wise=true` to remove the overhead.\n",
            "[LightGBM] [Info] Total Bins 2554\n",
            "[LightGBM] [Info] Number of data points in the train set: 2184, number of used features: 12\n",
            "[LightGBM] [Info] [binary:BoostFromScore]: pavg=0.390110 -> initscore=-0.446850\n",
            "[LightGBM] [Info] Start training from score -0.446850\n",
            "[LightGBM] [Info] Number of positive: 852, number of negative: 1332\n",
            "[LightGBM] [Info] Auto-choosing col-wise multi-threading, the overhead of testing was 0.000273 seconds.\n",
            "You can set `force_col_wise=true` to remove the overhead.\n",
            "[LightGBM] [Info] Total Bins 2554\n",
            "[LightGBM] [Info] Number of data points in the train set: 2184, number of used features: 12\n",
            "[LightGBM] [Info] [binary:BoostFromScore]: pavg=0.390110 -> initscore=-0.446850\n",
            "[LightGBM] [Info] Start training from score -0.446850\n",
            "[LightGBM] [Info] Number of positive: 852, number of negative: 1332\n",
            "[LightGBM] [Info] Auto-choosing col-wise multi-threading, the overhead of testing was 0.000391 seconds.\n",
            "You can set `force_col_wise=true` to remove the overhead.\n",
            "[LightGBM] [Info] Total Bins 2554\n",
            "[LightGBM] [Info] Number of data points in the train set: 2184, number of used features: 12\n",
            "[LightGBM] [Info] [binary:BoostFromScore]: pavg=0.390110 -> initscore=-0.446850\n",
            "[LightGBM] [Info] Start training from score -0.446850\n",
            "accuracy (Before): 0.7543\n",
            "[LightGBM] [Info] Number of positive: 1278, number of negative: 1998\n",
            "[LightGBM] [Info] Auto-choosing col-wise multi-threading, the overhead of testing was 0.000539 seconds.\n",
            "You can set `force_col_wise=true` to remove the overhead.\n",
            "[LightGBM] [Info] Total Bins 2554\n",
            "[LightGBM] [Info] Number of data points in the train set: 3276, number of used features: 12\n",
            "[LightGBM] [Info] [binary:BoostFromScore]: pavg=0.390110 -> initscore=-0.446850\n",
            "[LightGBM] [Info] Start training from score -0.446850\n",
            "[LightGBM] [Info] Number of positive: 852, number of negative: 1332\n",
            "[LightGBM] [Info] Auto-choosing col-wise multi-threading, the overhead of testing was 0.000391 seconds.\n",
            "You can set `force_col_wise=true` to remove the overhead.\n",
            "[LightGBM] [Info] Total Bins 2554\n",
            "[LightGBM] [Info] Number of data points in the train set: 2184, number of used features: 12\n",
            "[LightGBM] [Info] [binary:BoostFromScore]: pavg=0.390110 -> initscore=-0.446850\n",
            "[LightGBM] [Info] Start training from score -0.446850\n",
            "[LightGBM] [Info] Number of positive: 852, number of negative: 1332\n",
            "[LightGBM] [Info] Auto-choosing col-wise multi-threading, the overhead of testing was 0.000357 seconds.\n",
            "You can set `force_col_wise=true` to remove the overhead.\n",
            "[LightGBM] [Info] Total Bins 2554\n",
            "[LightGBM] [Info] Number of data points in the train set: 2184, number of used features: 12\n",
            "[LightGBM] [Info] [binary:BoostFromScore]: pavg=0.390110 -> initscore=-0.446850\n",
            "[LightGBM] [Info] Start training from score -0.446850\n",
            "[LightGBM] [Info] Number of positive: 852, number of negative: 1332\n",
            "[LightGBM] [Info] Auto-choosing col-wise multi-threading, the overhead of testing was 0.000399 seconds.\n",
            "You can set `force_col_wise=true` to remove the overhead.\n",
            "[LightGBM] [Info] Total Bins 2554\n",
            "[LightGBM] [Info] Number of data points in the train set: 2184, number of used features: 12\n",
            "[LightGBM] [Info] [binary:BoostFromScore]: pavg=0.390110 -> initscore=-0.446850\n",
            "[LightGBM] [Info] Start training from score -0.446850\n",
            "accuracy (After): 0.7567\n",
            "LightGBM best params: {'colsample_bytree': 0.7, 'learning_rate': 0.01, 'n_estimators': 300}\n",
            "\n",
            "Voting Classifier...\n",
            "[LightGBM] [Info] Number of positive: 1278, number of negative: 1998\n",
            "[LightGBM] [Info] Auto-choosing col-wise multi-threading, the overhead of testing was 0.000484 seconds.\n",
            "You can set `force_col_wise=true` to remove the overhead.\n",
            "[LightGBM] [Info] Total Bins 2554\n",
            "[LightGBM] [Info] Number of data points in the train set: 3276, number of used features: 12\n",
            "[LightGBM] [Info] [binary:BoostFromScore]: pavg=0.390110 -> initscore=-0.446850\n",
            "[LightGBM] [Info] Start training from score -0.446850\n",
            "[LightGBM] [Info] Number of positive: 852, number of negative: 1332\n",
            "[LightGBM] [Info] Auto-choosing col-wise multi-threading, the overhead of testing was 0.000366 seconds.\n",
            "You can set `force_col_wise=true` to remove the overhead.\n",
            "[LightGBM] [Info] Total Bins 2554\n",
            "[LightGBM] [Info] Number of data points in the train set: 2184, number of used features: 12\n",
            "[LightGBM] [Info] [binary:BoostFromScore]: pavg=0.390110 -> initscore=-0.446850\n",
            "[LightGBM] [Info] Start training from score -0.446850\n",
            "[LightGBM] [Info] Number of positive: 852, number of negative: 1332\n",
            "[LightGBM] [Info] Auto-choosing col-wise multi-threading, the overhead of testing was 0.000369 seconds.\n",
            "You can set `force_col_wise=true` to remove the overhead.\n",
            "[LightGBM] [Info] Total Bins 2554\n",
            "[LightGBM] [Info] Number of data points in the train set: 2184, number of used features: 12\n",
            "[LightGBM] [Info] [binary:BoostFromScore]: pavg=0.390110 -> initscore=-0.446850\n",
            "[LightGBM] [Info] Start training from score -0.446850\n",
            "[LightGBM] [Info] Number of positive: 852, number of negative: 1332\n",
            "[LightGBM] [Info] Auto-choosing col-wise multi-threading, the overhead of testing was 0.000391 seconds.\n",
            "You can set `force_col_wise=true` to remove the overhead.\n",
            "[LightGBM] [Info] Total Bins 2554\n",
            "[LightGBM] [Info] Number of data points in the train set: 2184, number of used features: 12\n",
            "[LightGBM] [Info] [binary:BoostFromScore]: pavg=0.390110 -> initscore=-0.446850\n",
            "[LightGBM] [Info] Start training from score -0.446850\n",
            "Accuracy: 0.7649572649572649\n",
            "F1Score: 0.6453051553469963\n",
            "ROC_AUC: 0.832253615117465\n"
          ]
        }
      ]
    }
  ]
}